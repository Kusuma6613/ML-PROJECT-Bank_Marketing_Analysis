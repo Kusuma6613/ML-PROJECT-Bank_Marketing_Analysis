{
  "cells": [
    {
      "cell_type": "code",
      "execution_count": null,
      "metadata": {
        "id": "tPu9Y62X2Pih"
      },
      "outputs": [],
      "source": [
        "import pandas as pd\n",
        "import numpy as np\n",
        "import matplotlib.pyplot as plt\n",
        "from sklearn.model_selection import train_test_split\n",
        "from sklearn.metrics import accuracy_score\n",
        "from sklearn import preprocessing\n",
        "from sklearn.svm import SVC\n",
        "from sklearn.neighbors import KNeighborsClassifier\n",
        "from sklearn.naive_bayes import GaussianNB\n",
        "from sklearn import metrics\n",
        "import seaborn as sns\n",
        "from sklearn.feature_selection import VarianceThreshold\n",
        "from sklearn.linear_model import LogisticRegression\n",
        "from sklearn.model_selection import KFold\n",
        "from sklearn.metrics import confusion_matrix\n",
        "from sklearn.ensemble import RandomForestClassifier\n"
      ]
    },
    {
      "cell_type": "code",
      "execution_count": null,
      "metadata": {
        "id": "FdTIaqkq9r7N",
        "colab": {
          "base_uri": "https://localhost:8080/"
        },
        "outputId": "cba5bfca-4cab-4f85-fe9a-2a294b1d3b9c"
      },
      "outputs": [
        {
          "output_type": "stream",
          "name": "stdout",
          "text": [
            "Drive already mounted at /content/gdrive; to attempt to forcibly remount, call drive.mount(\"/content/gdrive\", force_remount=True).\n"
          ]
        }
      ],
      "source": [
        "from google.colab import drive\n",
        "drive.mount('/content/gdrive')"
      ]
    },
    {
      "cell_type": "code",
      "execution_count": null,
      "metadata": {
        "id": "ONlWB4U09u80"
      },
      "outputs": [],
      "source": [
        "df = pd.read_csv(\"/content/gdrive/MyDrive/ML PRO/bank.csv\")"
      ]
    },
    {
      "cell_type": "code",
      "execution_count": null,
      "metadata": {
        "id": "1uKoSy7291h-",
        "colab": {
          "base_uri": "https://localhost:8080/"
        },
        "outputId": "520a8a24-bf39-4d33-fd40-0ecdf413d110"
      },
      "outputs": [
        {
          "output_type": "execute_result",
          "data": {
            "text/plain": [
              "(11162, 17)"
            ]
          },
          "metadata": {},
          "execution_count": 79
        }
      ],
      "source": [
        "df.shape"
      ]
    },
    {
      "cell_type": "code",
      "execution_count": null,
      "metadata": {
        "id": "Lvomp9YB94Ql",
        "colab": {
          "base_uri": "https://localhost:8080/",
          "height": 467
        },
        "outputId": "3d393d24-7f08-4373-bab1-3754d8fd2925"
      },
      "outputs": [
        {
          "output_type": "execute_result",
          "data": {
            "text/plain": [
              "       age          job  marital  education default  balance housing loan  \\\n",
              "0       59       admin.  married  secondary      no     2343     yes   no   \n",
              "1       56       admin.  married  secondary      no       45      no   no   \n",
              "2       41   technician  married  secondary      no     1270     yes   no   \n",
              "3       55     services  married  secondary      no     2476     yes   no   \n",
              "4       54       admin.  married   tertiary      no      184      no   no   \n",
              "...    ...          ...      ...        ...     ...      ...     ...  ...   \n",
              "11157   33  blue-collar   single    primary      no        1     yes   no   \n",
              "11158   39     services  married  secondary      no      733      no   no   \n",
              "11159   32   technician   single  secondary      no       29      no   no   \n",
              "11160   43   technician  married  secondary      no        0      no  yes   \n",
              "11161   34   technician  married  secondary      no        0      no   no   \n",
              "\n",
              "        contact  day month  duration  campaign  pdays  previous poutcome  \\\n",
              "0       unknown    5   may      1042         1     -1         0  unknown   \n",
              "1       unknown    5   may      1467         1     -1         0  unknown   \n",
              "2       unknown    5   may      1389         1     -1         0  unknown   \n",
              "3       unknown    5   may       579         1     -1         0  unknown   \n",
              "4       unknown    5   may       673         2     -1         0  unknown   \n",
              "...         ...  ...   ...       ...       ...    ...       ...      ...   \n",
              "11157  cellular   20   apr       257         1     -1         0  unknown   \n",
              "11158   unknown   16   jun        83         4     -1         0  unknown   \n",
              "11159  cellular   19   aug       156         2     -1         0  unknown   \n",
              "11160  cellular    8   may         9         2    172         5  failure   \n",
              "11161  cellular    9   jul       628         1     -1         0  unknown   \n",
              "\n",
              "      deposit  \n",
              "0         yes  \n",
              "1         yes  \n",
              "2         yes  \n",
              "3         yes  \n",
              "4         yes  \n",
              "...       ...  \n",
              "11157      no  \n",
              "11158      no  \n",
              "11159      no  \n",
              "11160      no  \n",
              "11161      no  \n",
              "\n",
              "[11162 rows x 17 columns]"
            ],
            "text/html": [
              "\n",
              "  <div id=\"df-c2956a47-a397-47b9-b7e2-24056487af88\">\n",
              "    <div class=\"colab-df-container\">\n",
              "      <div>\n",
              "<style scoped>\n",
              "    .dataframe tbody tr th:only-of-type {\n",
              "        vertical-align: middle;\n",
              "    }\n",
              "\n",
              "    .dataframe tbody tr th {\n",
              "        vertical-align: top;\n",
              "    }\n",
              "\n",
              "    .dataframe thead th {\n",
              "        text-align: right;\n",
              "    }\n",
              "</style>\n",
              "<table border=\"1\" class=\"dataframe\">\n",
              "  <thead>\n",
              "    <tr style=\"text-align: right;\">\n",
              "      <th></th>\n",
              "      <th>age</th>\n",
              "      <th>job</th>\n",
              "      <th>marital</th>\n",
              "      <th>education</th>\n",
              "      <th>default</th>\n",
              "      <th>balance</th>\n",
              "      <th>housing</th>\n",
              "      <th>loan</th>\n",
              "      <th>contact</th>\n",
              "      <th>day</th>\n",
              "      <th>month</th>\n",
              "      <th>duration</th>\n",
              "      <th>campaign</th>\n",
              "      <th>pdays</th>\n",
              "      <th>previous</th>\n",
              "      <th>poutcome</th>\n",
              "      <th>deposit</th>\n",
              "    </tr>\n",
              "  </thead>\n",
              "  <tbody>\n",
              "    <tr>\n",
              "      <th>0</th>\n",
              "      <td>59</td>\n",
              "      <td>admin.</td>\n",
              "      <td>married</td>\n",
              "      <td>secondary</td>\n",
              "      <td>no</td>\n",
              "      <td>2343</td>\n",
              "      <td>yes</td>\n",
              "      <td>no</td>\n",
              "      <td>unknown</td>\n",
              "      <td>5</td>\n",
              "      <td>may</td>\n",
              "      <td>1042</td>\n",
              "      <td>1</td>\n",
              "      <td>-1</td>\n",
              "      <td>0</td>\n",
              "      <td>unknown</td>\n",
              "      <td>yes</td>\n",
              "    </tr>\n",
              "    <tr>\n",
              "      <th>1</th>\n",
              "      <td>56</td>\n",
              "      <td>admin.</td>\n",
              "      <td>married</td>\n",
              "      <td>secondary</td>\n",
              "      <td>no</td>\n",
              "      <td>45</td>\n",
              "      <td>no</td>\n",
              "      <td>no</td>\n",
              "      <td>unknown</td>\n",
              "      <td>5</td>\n",
              "      <td>may</td>\n",
              "      <td>1467</td>\n",
              "      <td>1</td>\n",
              "      <td>-1</td>\n",
              "      <td>0</td>\n",
              "      <td>unknown</td>\n",
              "      <td>yes</td>\n",
              "    </tr>\n",
              "    <tr>\n",
              "      <th>2</th>\n",
              "      <td>41</td>\n",
              "      <td>technician</td>\n",
              "      <td>married</td>\n",
              "      <td>secondary</td>\n",
              "      <td>no</td>\n",
              "      <td>1270</td>\n",
              "      <td>yes</td>\n",
              "      <td>no</td>\n",
              "      <td>unknown</td>\n",
              "      <td>5</td>\n",
              "      <td>may</td>\n",
              "      <td>1389</td>\n",
              "      <td>1</td>\n",
              "      <td>-1</td>\n",
              "      <td>0</td>\n",
              "      <td>unknown</td>\n",
              "      <td>yes</td>\n",
              "    </tr>\n",
              "    <tr>\n",
              "      <th>3</th>\n",
              "      <td>55</td>\n",
              "      <td>services</td>\n",
              "      <td>married</td>\n",
              "      <td>secondary</td>\n",
              "      <td>no</td>\n",
              "      <td>2476</td>\n",
              "      <td>yes</td>\n",
              "      <td>no</td>\n",
              "      <td>unknown</td>\n",
              "      <td>5</td>\n",
              "      <td>may</td>\n",
              "      <td>579</td>\n",
              "      <td>1</td>\n",
              "      <td>-1</td>\n",
              "      <td>0</td>\n",
              "      <td>unknown</td>\n",
              "      <td>yes</td>\n",
              "    </tr>\n",
              "    <tr>\n",
              "      <th>4</th>\n",
              "      <td>54</td>\n",
              "      <td>admin.</td>\n",
              "      <td>married</td>\n",
              "      <td>tertiary</td>\n",
              "      <td>no</td>\n",
              "      <td>184</td>\n",
              "      <td>no</td>\n",
              "      <td>no</td>\n",
              "      <td>unknown</td>\n",
              "      <td>5</td>\n",
              "      <td>may</td>\n",
              "      <td>673</td>\n",
              "      <td>2</td>\n",
              "      <td>-1</td>\n",
              "      <td>0</td>\n",
              "      <td>unknown</td>\n",
              "      <td>yes</td>\n",
              "    </tr>\n",
              "    <tr>\n",
              "      <th>...</th>\n",
              "      <td>...</td>\n",
              "      <td>...</td>\n",
              "      <td>...</td>\n",
              "      <td>...</td>\n",
              "      <td>...</td>\n",
              "      <td>...</td>\n",
              "      <td>...</td>\n",
              "      <td>...</td>\n",
              "      <td>...</td>\n",
              "      <td>...</td>\n",
              "      <td>...</td>\n",
              "      <td>...</td>\n",
              "      <td>...</td>\n",
              "      <td>...</td>\n",
              "      <td>...</td>\n",
              "      <td>...</td>\n",
              "      <td>...</td>\n",
              "    </tr>\n",
              "    <tr>\n",
              "      <th>11157</th>\n",
              "      <td>33</td>\n",
              "      <td>blue-collar</td>\n",
              "      <td>single</td>\n",
              "      <td>primary</td>\n",
              "      <td>no</td>\n",
              "      <td>1</td>\n",
              "      <td>yes</td>\n",
              "      <td>no</td>\n",
              "      <td>cellular</td>\n",
              "      <td>20</td>\n",
              "      <td>apr</td>\n",
              "      <td>257</td>\n",
              "      <td>1</td>\n",
              "      <td>-1</td>\n",
              "      <td>0</td>\n",
              "      <td>unknown</td>\n",
              "      <td>no</td>\n",
              "    </tr>\n",
              "    <tr>\n",
              "      <th>11158</th>\n",
              "      <td>39</td>\n",
              "      <td>services</td>\n",
              "      <td>married</td>\n",
              "      <td>secondary</td>\n",
              "      <td>no</td>\n",
              "      <td>733</td>\n",
              "      <td>no</td>\n",
              "      <td>no</td>\n",
              "      <td>unknown</td>\n",
              "      <td>16</td>\n",
              "      <td>jun</td>\n",
              "      <td>83</td>\n",
              "      <td>4</td>\n",
              "      <td>-1</td>\n",
              "      <td>0</td>\n",
              "      <td>unknown</td>\n",
              "      <td>no</td>\n",
              "    </tr>\n",
              "    <tr>\n",
              "      <th>11159</th>\n",
              "      <td>32</td>\n",
              "      <td>technician</td>\n",
              "      <td>single</td>\n",
              "      <td>secondary</td>\n",
              "      <td>no</td>\n",
              "      <td>29</td>\n",
              "      <td>no</td>\n",
              "      <td>no</td>\n",
              "      <td>cellular</td>\n",
              "      <td>19</td>\n",
              "      <td>aug</td>\n",
              "      <td>156</td>\n",
              "      <td>2</td>\n",
              "      <td>-1</td>\n",
              "      <td>0</td>\n",
              "      <td>unknown</td>\n",
              "      <td>no</td>\n",
              "    </tr>\n",
              "    <tr>\n",
              "      <th>11160</th>\n",
              "      <td>43</td>\n",
              "      <td>technician</td>\n",
              "      <td>married</td>\n",
              "      <td>secondary</td>\n",
              "      <td>no</td>\n",
              "      <td>0</td>\n",
              "      <td>no</td>\n",
              "      <td>yes</td>\n",
              "      <td>cellular</td>\n",
              "      <td>8</td>\n",
              "      <td>may</td>\n",
              "      <td>9</td>\n",
              "      <td>2</td>\n",
              "      <td>172</td>\n",
              "      <td>5</td>\n",
              "      <td>failure</td>\n",
              "      <td>no</td>\n",
              "    </tr>\n",
              "    <tr>\n",
              "      <th>11161</th>\n",
              "      <td>34</td>\n",
              "      <td>technician</td>\n",
              "      <td>married</td>\n",
              "      <td>secondary</td>\n",
              "      <td>no</td>\n",
              "      <td>0</td>\n",
              "      <td>no</td>\n",
              "      <td>no</td>\n",
              "      <td>cellular</td>\n",
              "      <td>9</td>\n",
              "      <td>jul</td>\n",
              "      <td>628</td>\n",
              "      <td>1</td>\n",
              "      <td>-1</td>\n",
              "      <td>0</td>\n",
              "      <td>unknown</td>\n",
              "      <td>no</td>\n",
              "    </tr>\n",
              "  </tbody>\n",
              "</table>\n",
              "<p>11162 rows × 17 columns</p>\n",
              "</div>\n",
              "      <button class=\"colab-df-convert\" onclick=\"convertToInteractive('df-c2956a47-a397-47b9-b7e2-24056487af88')\"\n",
              "              title=\"Convert this dataframe to an interactive table.\"\n",
              "              style=\"display:none;\">\n",
              "        \n",
              "  <svg xmlns=\"http://www.w3.org/2000/svg\" height=\"24px\"viewBox=\"0 0 24 24\"\n",
              "       width=\"24px\">\n",
              "    <path d=\"M0 0h24v24H0V0z\" fill=\"none\"/>\n",
              "    <path d=\"M18.56 5.44l.94 2.06.94-2.06 2.06-.94-2.06-.94-.94-2.06-.94 2.06-2.06.94zm-11 1L8.5 8.5l.94-2.06 2.06-.94-2.06-.94L8.5 2.5l-.94 2.06-2.06.94zm10 10l.94 2.06.94-2.06 2.06-.94-2.06-.94-.94-2.06-.94 2.06-2.06.94z\"/><path d=\"M17.41 7.96l-1.37-1.37c-.4-.4-.92-.59-1.43-.59-.52 0-1.04.2-1.43.59L10.3 9.45l-7.72 7.72c-.78.78-.78 2.05 0 2.83L4 21.41c.39.39.9.59 1.41.59.51 0 1.02-.2 1.41-.59l7.78-7.78 2.81-2.81c.8-.78.8-2.07 0-2.86zM5.41 20L4 18.59l7.72-7.72 1.47 1.35L5.41 20z\"/>\n",
              "  </svg>\n",
              "      </button>\n",
              "      \n",
              "  <style>\n",
              "    .colab-df-container {\n",
              "      display:flex;\n",
              "      flex-wrap:wrap;\n",
              "      gap: 12px;\n",
              "    }\n",
              "\n",
              "    .colab-df-convert {\n",
              "      background-color: #E8F0FE;\n",
              "      border: none;\n",
              "      border-radius: 50%;\n",
              "      cursor: pointer;\n",
              "      display: none;\n",
              "      fill: #1967D2;\n",
              "      height: 32px;\n",
              "      padding: 0 0 0 0;\n",
              "      width: 32px;\n",
              "    }\n",
              "\n",
              "    .colab-df-convert:hover {\n",
              "      background-color: #E2EBFA;\n",
              "      box-shadow: 0px 1px 2px rgba(60, 64, 67, 0.3), 0px 1px 3px 1px rgba(60, 64, 67, 0.15);\n",
              "      fill: #174EA6;\n",
              "    }\n",
              "\n",
              "    [theme=dark] .colab-df-convert {\n",
              "      background-color: #3B4455;\n",
              "      fill: #D2E3FC;\n",
              "    }\n",
              "\n",
              "    [theme=dark] .colab-df-convert:hover {\n",
              "      background-color: #434B5C;\n",
              "      box-shadow: 0px 1px 3px 1px rgba(0, 0, 0, 0.15);\n",
              "      filter: drop-shadow(0px 1px 2px rgba(0, 0, 0, 0.3));\n",
              "      fill: #FFFFFF;\n",
              "    }\n",
              "  </style>\n",
              "\n",
              "      <script>\n",
              "        const buttonEl =\n",
              "          document.querySelector('#df-c2956a47-a397-47b9-b7e2-24056487af88 button.colab-df-convert');\n",
              "        buttonEl.style.display =\n",
              "          google.colab.kernel.accessAllowed ? 'block' : 'none';\n",
              "\n",
              "        async function convertToInteractive(key) {\n",
              "          const element = document.querySelector('#df-c2956a47-a397-47b9-b7e2-24056487af88');\n",
              "          const dataTable =\n",
              "            await google.colab.kernel.invokeFunction('convertToInteractive',\n",
              "                                                     [key], {});\n",
              "          if (!dataTable) return;\n",
              "\n",
              "          const docLinkHtml = 'Like what you see? Visit the ' +\n",
              "            '<a target=\"_blank\" href=https://colab.research.google.com/notebooks/data_table.ipynb>data table notebook</a>'\n",
              "            + ' to learn more about interactive tables.';\n",
              "          element.innerHTML = '';\n",
              "          dataTable['output_type'] = 'display_data';\n",
              "          await google.colab.output.renderOutput(dataTable, element);\n",
              "          const docLink = document.createElement('div');\n",
              "          docLink.innerHTML = docLinkHtml;\n",
              "          element.appendChild(docLink);\n",
              "        }\n",
              "      </script>\n",
              "    </div>\n",
              "  </div>\n",
              "  "
            ]
          },
          "metadata": {},
          "execution_count": 80
        }
      ],
      "source": [
        "df"
      ]
    },
    {
      "cell_type": "code",
      "execution_count": null,
      "metadata": {
        "id": "NC2y8ntY95_s",
        "colab": {
          "base_uri": "https://localhost:8080/"
        },
        "outputId": "e6fbaa2f-4d4d-46aa-a41e-e8d7e8fa93dc"
      },
      "outputs": [
        {
          "output_type": "execute_result",
          "data": {
            "text/plain": [
              "Index(['age', 'job', 'marital', 'education', 'default', 'balance', 'housing',\n",
              "       'loan', 'contact', 'day', 'month', 'duration', 'campaign', 'pdays',\n",
              "       'previous', 'poutcome', 'deposit'],\n",
              "      dtype='object')"
            ]
          },
          "metadata": {},
          "execution_count": 81
        }
      ],
      "source": [
        "df.columns"
      ]
    },
    {
      "cell_type": "code",
      "execution_count": null,
      "metadata": {
        "id": "VT8R2mFB98ab",
        "colab": {
          "base_uri": "https://localhost:8080/"
        },
        "outputId": "eba07926-a5c5-4544-e9e5-b54153467049"
      },
      "outputs": [
        {
          "output_type": "stream",
          "name": "stdout",
          "text": [
            "<class 'pandas.core.frame.DataFrame'>\n",
            "RangeIndex: 11162 entries, 0 to 11161\n",
            "Data columns (total 17 columns):\n",
            " #   Column     Non-Null Count  Dtype \n",
            "---  ------     --------------  ----- \n",
            " 0   age        11162 non-null  int64 \n",
            " 1   job        11162 non-null  object\n",
            " 2   marital    11162 non-null  object\n",
            " 3   education  11162 non-null  object\n",
            " 4   default    11162 non-null  object\n",
            " 5   balance    11162 non-null  int64 \n",
            " 6   housing    11162 non-null  object\n",
            " 7   loan       11162 non-null  object\n",
            " 8   contact    11162 non-null  object\n",
            " 9   day        11162 non-null  int64 \n",
            " 10  month      11162 non-null  object\n",
            " 11  duration   11162 non-null  int64 \n",
            " 12  campaign   11162 non-null  int64 \n",
            " 13  pdays      11162 non-null  int64 \n",
            " 14  previous   11162 non-null  int64 \n",
            " 15  poutcome   11162 non-null  object\n",
            " 16  deposit    11162 non-null  object\n",
            "dtypes: int64(7), object(10)\n",
            "memory usage: 1.4+ MB\n"
          ]
        }
      ],
      "source": [
        "df.info()"
      ]
    },
    {
      "cell_type": "code",
      "execution_count": null,
      "metadata": {
        "id": "V0tZSAhf9-Ka",
        "colab": {
          "base_uri": "https://localhost:8080/",
          "height": 300
        },
        "outputId": "51ee6ac6-254b-4ce2-81bd-591297f49465"
      },
      "outputs": [
        {
          "output_type": "execute_result",
          "data": {
            "text/plain": [
              "                age       balance           day      duration      campaign  \\\n",
              "count  11162.000000  11162.000000  11162.000000  11162.000000  11162.000000   \n",
              "mean      41.231948   1528.538524     15.658036    371.993818      2.508421   \n",
              "std       11.913369   3225.413326      8.420740    347.128386      2.722077   \n",
              "min       18.000000  -6847.000000      1.000000      2.000000      1.000000   \n",
              "25%       32.000000    122.000000      8.000000    138.000000      1.000000   \n",
              "50%       39.000000    550.000000     15.000000    255.000000      2.000000   \n",
              "75%       49.000000   1708.000000     22.000000    496.000000      3.000000   \n",
              "max       95.000000  81204.000000     31.000000   3881.000000     63.000000   \n",
              "\n",
              "              pdays      previous  \n",
              "count  11162.000000  11162.000000  \n",
              "mean      51.330407      0.832557  \n",
              "std      108.758282      2.292007  \n",
              "min       -1.000000      0.000000  \n",
              "25%       -1.000000      0.000000  \n",
              "50%       -1.000000      0.000000  \n",
              "75%       20.750000      1.000000  \n",
              "max      854.000000     58.000000  "
            ],
            "text/html": [
              "\n",
              "  <div id=\"df-8972c98d-4961-43e7-b670-f8bf59944ed3\">\n",
              "    <div class=\"colab-df-container\">\n",
              "      <div>\n",
              "<style scoped>\n",
              "    .dataframe tbody tr th:only-of-type {\n",
              "        vertical-align: middle;\n",
              "    }\n",
              "\n",
              "    .dataframe tbody tr th {\n",
              "        vertical-align: top;\n",
              "    }\n",
              "\n",
              "    .dataframe thead th {\n",
              "        text-align: right;\n",
              "    }\n",
              "</style>\n",
              "<table border=\"1\" class=\"dataframe\">\n",
              "  <thead>\n",
              "    <tr style=\"text-align: right;\">\n",
              "      <th></th>\n",
              "      <th>age</th>\n",
              "      <th>balance</th>\n",
              "      <th>day</th>\n",
              "      <th>duration</th>\n",
              "      <th>campaign</th>\n",
              "      <th>pdays</th>\n",
              "      <th>previous</th>\n",
              "    </tr>\n",
              "  </thead>\n",
              "  <tbody>\n",
              "    <tr>\n",
              "      <th>count</th>\n",
              "      <td>11162.000000</td>\n",
              "      <td>11162.000000</td>\n",
              "      <td>11162.000000</td>\n",
              "      <td>11162.000000</td>\n",
              "      <td>11162.000000</td>\n",
              "      <td>11162.000000</td>\n",
              "      <td>11162.000000</td>\n",
              "    </tr>\n",
              "    <tr>\n",
              "      <th>mean</th>\n",
              "      <td>41.231948</td>\n",
              "      <td>1528.538524</td>\n",
              "      <td>15.658036</td>\n",
              "      <td>371.993818</td>\n",
              "      <td>2.508421</td>\n",
              "      <td>51.330407</td>\n",
              "      <td>0.832557</td>\n",
              "    </tr>\n",
              "    <tr>\n",
              "      <th>std</th>\n",
              "      <td>11.913369</td>\n",
              "      <td>3225.413326</td>\n",
              "      <td>8.420740</td>\n",
              "      <td>347.128386</td>\n",
              "      <td>2.722077</td>\n",
              "      <td>108.758282</td>\n",
              "      <td>2.292007</td>\n",
              "    </tr>\n",
              "    <tr>\n",
              "      <th>min</th>\n",
              "      <td>18.000000</td>\n",
              "      <td>-6847.000000</td>\n",
              "      <td>1.000000</td>\n",
              "      <td>2.000000</td>\n",
              "      <td>1.000000</td>\n",
              "      <td>-1.000000</td>\n",
              "      <td>0.000000</td>\n",
              "    </tr>\n",
              "    <tr>\n",
              "      <th>25%</th>\n",
              "      <td>32.000000</td>\n",
              "      <td>122.000000</td>\n",
              "      <td>8.000000</td>\n",
              "      <td>138.000000</td>\n",
              "      <td>1.000000</td>\n",
              "      <td>-1.000000</td>\n",
              "      <td>0.000000</td>\n",
              "    </tr>\n",
              "    <tr>\n",
              "      <th>50%</th>\n",
              "      <td>39.000000</td>\n",
              "      <td>550.000000</td>\n",
              "      <td>15.000000</td>\n",
              "      <td>255.000000</td>\n",
              "      <td>2.000000</td>\n",
              "      <td>-1.000000</td>\n",
              "      <td>0.000000</td>\n",
              "    </tr>\n",
              "    <tr>\n",
              "      <th>75%</th>\n",
              "      <td>49.000000</td>\n",
              "      <td>1708.000000</td>\n",
              "      <td>22.000000</td>\n",
              "      <td>496.000000</td>\n",
              "      <td>3.000000</td>\n",
              "      <td>20.750000</td>\n",
              "      <td>1.000000</td>\n",
              "    </tr>\n",
              "    <tr>\n",
              "      <th>max</th>\n",
              "      <td>95.000000</td>\n",
              "      <td>81204.000000</td>\n",
              "      <td>31.000000</td>\n",
              "      <td>3881.000000</td>\n",
              "      <td>63.000000</td>\n",
              "      <td>854.000000</td>\n",
              "      <td>58.000000</td>\n",
              "    </tr>\n",
              "  </tbody>\n",
              "</table>\n",
              "</div>\n",
              "      <button class=\"colab-df-convert\" onclick=\"convertToInteractive('df-8972c98d-4961-43e7-b670-f8bf59944ed3')\"\n",
              "              title=\"Convert this dataframe to an interactive table.\"\n",
              "              style=\"display:none;\">\n",
              "        \n",
              "  <svg xmlns=\"http://www.w3.org/2000/svg\" height=\"24px\"viewBox=\"0 0 24 24\"\n",
              "       width=\"24px\">\n",
              "    <path d=\"M0 0h24v24H0V0z\" fill=\"none\"/>\n",
              "    <path d=\"M18.56 5.44l.94 2.06.94-2.06 2.06-.94-2.06-.94-.94-2.06-.94 2.06-2.06.94zm-11 1L8.5 8.5l.94-2.06 2.06-.94-2.06-.94L8.5 2.5l-.94 2.06-2.06.94zm10 10l.94 2.06.94-2.06 2.06-.94-2.06-.94-.94-2.06-.94 2.06-2.06.94z\"/><path d=\"M17.41 7.96l-1.37-1.37c-.4-.4-.92-.59-1.43-.59-.52 0-1.04.2-1.43.59L10.3 9.45l-7.72 7.72c-.78.78-.78 2.05 0 2.83L4 21.41c.39.39.9.59 1.41.59.51 0 1.02-.2 1.41-.59l7.78-7.78 2.81-2.81c.8-.78.8-2.07 0-2.86zM5.41 20L4 18.59l7.72-7.72 1.47 1.35L5.41 20z\"/>\n",
              "  </svg>\n",
              "      </button>\n",
              "      \n",
              "  <style>\n",
              "    .colab-df-container {\n",
              "      display:flex;\n",
              "      flex-wrap:wrap;\n",
              "      gap: 12px;\n",
              "    }\n",
              "\n",
              "    .colab-df-convert {\n",
              "      background-color: #E8F0FE;\n",
              "      border: none;\n",
              "      border-radius: 50%;\n",
              "      cursor: pointer;\n",
              "      display: none;\n",
              "      fill: #1967D2;\n",
              "      height: 32px;\n",
              "      padding: 0 0 0 0;\n",
              "      width: 32px;\n",
              "    }\n",
              "\n",
              "    .colab-df-convert:hover {\n",
              "      background-color: #E2EBFA;\n",
              "      box-shadow: 0px 1px 2px rgba(60, 64, 67, 0.3), 0px 1px 3px 1px rgba(60, 64, 67, 0.15);\n",
              "      fill: #174EA6;\n",
              "    }\n",
              "\n",
              "    [theme=dark] .colab-df-convert {\n",
              "      background-color: #3B4455;\n",
              "      fill: #D2E3FC;\n",
              "    }\n",
              "\n",
              "    [theme=dark] .colab-df-convert:hover {\n",
              "      background-color: #434B5C;\n",
              "      box-shadow: 0px 1px 3px 1px rgba(0, 0, 0, 0.15);\n",
              "      filter: drop-shadow(0px 1px 2px rgba(0, 0, 0, 0.3));\n",
              "      fill: #FFFFFF;\n",
              "    }\n",
              "  </style>\n",
              "\n",
              "      <script>\n",
              "        const buttonEl =\n",
              "          document.querySelector('#df-8972c98d-4961-43e7-b670-f8bf59944ed3 button.colab-df-convert');\n",
              "        buttonEl.style.display =\n",
              "          google.colab.kernel.accessAllowed ? 'block' : 'none';\n",
              "\n",
              "        async function convertToInteractive(key) {\n",
              "          const element = document.querySelector('#df-8972c98d-4961-43e7-b670-f8bf59944ed3');\n",
              "          const dataTable =\n",
              "            await google.colab.kernel.invokeFunction('convertToInteractive',\n",
              "                                                     [key], {});\n",
              "          if (!dataTable) return;\n",
              "\n",
              "          const docLinkHtml = 'Like what you see? Visit the ' +\n",
              "            '<a target=\"_blank\" href=https://colab.research.google.com/notebooks/data_table.ipynb>data table notebook</a>'\n",
              "            + ' to learn more about interactive tables.';\n",
              "          element.innerHTML = '';\n",
              "          dataTable['output_type'] = 'display_data';\n",
              "          await google.colab.output.renderOutput(dataTable, element);\n",
              "          const docLink = document.createElement('div');\n",
              "          docLink.innerHTML = docLinkHtml;\n",
              "          element.appendChild(docLink);\n",
              "        }\n",
              "      </script>\n",
              "    </div>\n",
              "  </div>\n",
              "  "
            ]
          },
          "metadata": {},
          "execution_count": 83
        }
      ],
      "source": [
        "df.describe()"
      ]
    },
    {
      "cell_type": "code",
      "execution_count": null,
      "metadata": {
        "id": "FlABkHJj-ARn",
        "colab": {
          "base_uri": "https://localhost:8080/"
        },
        "outputId": "51cfe3a7-38d7-4045-bf49-b48c0de3389e"
      },
      "outputs": [
        {
          "output_type": "execute_result",
          "data": {
            "text/plain": [
              "age          0\n",
              "job          0\n",
              "marital      0\n",
              "education    0\n",
              "default      0\n",
              "balance      0\n",
              "housing      0\n",
              "loan         0\n",
              "contact      0\n",
              "day          0\n",
              "month        0\n",
              "duration     0\n",
              "campaign     0\n",
              "pdays        0\n",
              "previous     0\n",
              "poutcome     0\n",
              "deposit      0\n",
              "dtype: int64"
            ]
          },
          "metadata": {},
          "execution_count": 84
        }
      ],
      "source": [
        "df.isnull().sum()"
      ]
    },
    {
      "cell_type": "code",
      "execution_count": null,
      "metadata": {
        "id": "V7--zFS_-B31",
        "colab": {
          "base_uri": "https://localhost:8080/"
        },
        "outputId": "78b84ae3-dcf8-4cda-eb26-0bfedbf54db6"
      },
      "outputs": [
        {
          "output_type": "execute_result",
          "data": {
            "text/plain": [
              "0"
            ]
          },
          "metadata": {},
          "execution_count": 85
        }
      ],
      "source": [
        "df.isnull().sum().sum()"
      ]
    },
    {
      "cell_type": "code",
      "execution_count": null,
      "metadata": {
        "id": "V30ma_Ef-D3I"
      },
      "outputs": [],
      "source": [
        "cat = df.select_dtypes(include=['object']).copy()"
      ]
    },
    {
      "cell_type": "code",
      "source": [
        "cat_col = cat.columns\n",
        "cat_col"
      ],
      "metadata": {
        "id": "L62lQwLme_rA",
        "colab": {
          "base_uri": "https://localhost:8080/"
        },
        "outputId": "d79269c6-b223-4c0a-bc27-d671c8076b2c"
      },
      "execution_count": null,
      "outputs": [
        {
          "output_type": "execute_result",
          "data": {
            "text/plain": [
              "Index(['job', 'marital', 'education', 'default', 'housing', 'loan', 'contact',\n",
              "       'month', 'poutcome', 'deposit'],\n",
              "      dtype='object')"
            ]
          },
          "metadata": {},
          "execution_count": 87
        }
      ]
    },
    {
      "cell_type": "code",
      "execution_count": null,
      "metadata": {
        "id": "fPAv7CuB-HFP",
        "colab": {
          "base_uri": "https://localhost:8080/"
        },
        "outputId": "bfef8d25-97df-4489-df91-2a6f93bfb909"
      },
      "outputs": [
        {
          "output_type": "execute_result",
          "data": {
            "text/plain": [
              "management       2566\n",
              "blue-collar      1944\n",
              "technician       1823\n",
              "admin.           1334\n",
              "services          923\n",
              "retired           778\n",
              "self-employed     405\n",
              "student           360\n",
              "unemployed        357\n",
              "entrepreneur      328\n",
              "housemaid         274\n",
              "unknown            70\n",
              "Name: job, dtype: int64"
            ]
          },
          "metadata": {},
          "execution_count": 88
        }
      ],
      "source": [
        "cat['job'].value_counts()"
      ]
    },
    {
      "cell_type": "code",
      "execution_count": null,
      "metadata": {
        "id": "kmaefyUS-Ih4",
        "colab": {
          "base_uri": "https://localhost:8080/"
        },
        "outputId": "3f4c0f93-6a6b-4221-9cf4-b9f191b20eb1"
      },
      "outputs": [
        {
          "output_type": "execute_result",
          "data": {
            "text/plain": [
              "married     6351\n",
              "single      3518\n",
              "divorced    1293\n",
              "Name: marital, dtype: int64"
            ]
          },
          "metadata": {},
          "execution_count": 89
        }
      ],
      "source": [
        "cat['marital'].value_counts()"
      ]
    },
    {
      "cell_type": "code",
      "execution_count": null,
      "metadata": {
        "id": "clPQwYaA-KkQ",
        "colab": {
          "base_uri": "https://localhost:8080/"
        },
        "outputId": "7d6fd622-60e0-456d-f1f1-9bb1f120e7da"
      },
      "outputs": [
        {
          "output_type": "execute_result",
          "data": {
            "text/plain": [
              "secondary    5476\n",
              "tertiary     3689\n",
              "primary      1500\n",
              "unknown       497\n",
              "Name: education, dtype: int64"
            ]
          },
          "metadata": {},
          "execution_count": 90
        }
      ],
      "source": [
        "cat['education'].value_counts()"
      ]
    },
    {
      "cell_type": "code",
      "execution_count": null,
      "metadata": {
        "id": "Ca544o9Q-MIH",
        "colab": {
          "base_uri": "https://localhost:8080/"
        },
        "outputId": "948b1de8-1795-4b84-855d-dbff169d0d0f"
      },
      "outputs": [
        {
          "output_type": "execute_result",
          "data": {
            "text/plain": [
              "no     10994\n",
              "yes      168\n",
              "Name: default, dtype: int64"
            ]
          },
          "metadata": {},
          "execution_count": 91
        }
      ],
      "source": [
        "cat['default'].value_counts()"
      ]
    },
    {
      "cell_type": "code",
      "execution_count": null,
      "metadata": {
        "id": "H9H6-w4J-N7K",
        "colab": {
          "base_uri": "https://localhost:8080/"
        },
        "outputId": "8beefd63-90fc-4aaa-d4c3-3c047714c841"
      },
      "outputs": [
        {
          "output_type": "execute_result",
          "data": {
            "text/plain": [
              "no     5881\n",
              "yes    5281\n",
              "Name: housing, dtype: int64"
            ]
          },
          "metadata": {},
          "execution_count": 92
        }
      ],
      "source": [
        "cat['housing'].value_counts()"
      ]
    },
    {
      "cell_type": "code",
      "execution_count": null,
      "metadata": {
        "id": "HIrBrPg0-PiF",
        "colab": {
          "base_uri": "https://localhost:8080/"
        },
        "outputId": "05353905-4937-47d3-b814-25007e1c0c97"
      },
      "outputs": [
        {
          "output_type": "execute_result",
          "data": {
            "text/plain": [
              "no     9702\n",
              "yes    1460\n",
              "Name: loan, dtype: int64"
            ]
          },
          "metadata": {},
          "execution_count": 93
        }
      ],
      "source": [
        "cat['loan'].value_counts()"
      ]
    },
    {
      "cell_type": "code",
      "execution_count": null,
      "metadata": {
        "id": "uabRcL0z-RcD",
        "colab": {
          "base_uri": "https://localhost:8080/"
        },
        "outputId": "7b394eac-e76f-448d-8b5c-1fbd62a448cf"
      },
      "outputs": [
        {
          "output_type": "execute_result",
          "data": {
            "text/plain": [
              "cellular     8042\n",
              "unknown      2346\n",
              "telephone     774\n",
              "Name: contact, dtype: int64"
            ]
          },
          "metadata": {},
          "execution_count": 94
        }
      ],
      "source": [
        "cat['contact'].value_counts()"
      ]
    },
    {
      "cell_type": "code",
      "execution_count": null,
      "metadata": {
        "id": "uQW6IrjB-TN0",
        "colab": {
          "base_uri": "https://localhost:8080/"
        },
        "outputId": "47c96dc5-d3d7-45e9-a9ba-dd7ecc5e8f66"
      },
      "outputs": [
        {
          "output_type": "execute_result",
          "data": {
            "text/plain": [
              "may    2824\n",
              "aug    1519\n",
              "jul    1514\n",
              "jun    1222\n",
              "nov     943\n",
              "apr     923\n",
              "feb     776\n",
              "oct     392\n",
              "jan     344\n",
              "sep     319\n",
              "mar     276\n",
              "dec     110\n",
              "Name: month, dtype: int64"
            ]
          },
          "metadata": {},
          "execution_count": 95
        }
      ],
      "source": [
        "cat['month'].value_counts()"
      ]
    },
    {
      "cell_type": "code",
      "execution_count": null,
      "metadata": {
        "id": "aJ5Q_XPi-U2S",
        "colab": {
          "base_uri": "https://localhost:8080/"
        },
        "outputId": "f3f05762-7e17-4f68-ed0f-ba0855e1e316"
      },
      "outputs": [
        {
          "output_type": "execute_result",
          "data": {
            "text/plain": [
              "unknown    8326\n",
              "failure    1228\n",
              "success    1071\n",
              "other       537\n",
              "Name: poutcome, dtype: int64"
            ]
          },
          "metadata": {},
          "execution_count": 96
        }
      ],
      "source": [
        "cat['poutcome'].value_counts()"
      ]
    },
    {
      "cell_type": "code",
      "execution_count": null,
      "metadata": {
        "id": "CTZThXp5-Wit",
        "colab": {
          "base_uri": "https://localhost:8080/"
        },
        "outputId": "c01145d2-3433-4181-cc02-54f49242e59a"
      },
      "outputs": [
        {
          "output_type": "execute_result",
          "data": {
            "text/plain": [
              "no     5873\n",
              "yes    5289\n",
              "Name: deposit, dtype: int64"
            ]
          },
          "metadata": {},
          "execution_count": 97
        }
      ],
      "source": [
        "cat['deposit'].value_counts()"
      ]
    },
    {
      "cell_type": "code",
      "source": [
        "for column in cat_col:\n",
        "    plt.figure(figsize=(10, 10))\n",
        "    print(column.title())\n",
        "    ax = sns.countplot(x = df[column])\n",
        "    plt.show()"
      ],
      "metadata": {
        "id": "p3CSbG28td9_",
        "colab": {
          "base_uri": "https://localhost:8080/",
          "height": 1000
        },
        "outputId": "cf97059b-de98-4509-ef9f-b5ceb3cc4b1b"
      },
      "execution_count": null,
      "outputs": [
        {
          "output_type": "stream",
          "name": "stdout",
          "text": [
            "Job\n"
          ]
        },
        {
          "output_type": "display_data",
          "data": {
            "text/plain": [
              "<Figure size 1000x1000 with 1 Axes>"
            ],
            "image/png": "[encoded data removed]"
          },
          "metadata": {}
        },
        {
          "output_type": "stream",
          "name": "stdout",
          "text": [
            "Marital\n"
          ]
        },
        {
          "output_type": "display_data",
          "data": {
            "text/plain": [
              "<Figure size 1000x1000 with 1 Axes>"
            ],
            "image/png": "[encoded data removed]"
          },
          "metadata": {}
        },
        {
          "output_type": "stream",
          "name": "stdout",
          "text": [
            "Education\n"
          ]
        },
        {
          "output_type": "display_data",
          "data": {
            "text/plain": [
              "<Figure size 1000x1000 with 1 Axes>"
            ],
            "image/png": "[encoded data removed]"
          },
          "metadata": {}
        },
        {
          "output_type": "stream",
          "name": "stdout",
          "text": [
            "Default\n"
          ]
        },
        {
          "output_type": "display_data",
          "data": {
            "text/plain": [
              "<Figure size 1000x1000 with 1 Axes>"
            ],
            "image/png": "[encoded data removed]"
          },
          "metadata": {}
        },
        {
          "output_type": "stream",
          "name": "stdout",
          "text": [
            "Housing\n"
          ]
        },
        {
          "output_type": "display_data",
          "data": {
            "text/plain": [
              "<Figure size 1000x1000 with 1 Axes>"
            ],
            "image/png": "[encoded data removed]"
          },
          "metadata": {}
        },
        {
          "output_type": "stream",
          "name": "stdout",
          "text": [
            "Loan\n"
          ]
        },
        {
          "output_type": "display_data",
          "data": {
            "text/plain": [
              "<Figure size 1000x1000 with 1 Axes>"
            ],
            "image/png": "[encoded data removed]"
          },
          "metadata": {}
        },
        {
          "output_type": "stream",
          "name": "stdout",
          "text": [
            "Contact\n"
          ]
        },
        {
          "output_type": "display_data",
          "data": {
            "text/plain": [
              "<Figure size 1000x1000 with 1 Axes>"
            ],
            "image/png": "[encoded data removed]"
          },
          "metadata": {}
        },
        {
          "output_type": "stream",
          "name": "stdout",
          "text": [
            "Month\n"
          ]
        },
        {
          "output_type": "display_data",
          "data": {
            "text/plain": [
              "<Figure size 1000x1000 with 1 Axes>"
            ],
            "image/png": "[encoded data removed]"
          },
          "metadata": {}
        },
        {
          "output_type": "stream",
          "name": "stdout",
          "text": [
            "Poutcome\n"
          ]
        },
        {
          "output_type": "display_data",
          "data": {
            "text/plain": [
              "<Figure size 1000x1000 with 1 Axes>"
            ],
            "image/png": "[encoded data removed]"
          },
          "metadata": {}
        },
        {
          "output_type": "stream",
          "name": "stdout",
          "text": [
            "Deposit\n"
          ]
        },
        {
          "output_type": "display_data",
          "data": {
            "text/plain": [
              "<Figure size 1000x1000 with 1 Axes>"
            ],
            "image/png": "[encoded data removed]"
          },
          "metadata": {}
        }
      ]
    },
    {
      "cell_type": "code",
      "source": [],
      "metadata": {
        "id": "d71SPljVsM83"
      },
      "execution_count": null,
      "outputs": []
    },
    {
      "cell_type": "code",
      "source": [
        "# To visualize the distribution\n",
        "figure = plt.figure(figsize=(30, 25))\n",
        "for i in range(len(df.columns)):\n",
        "    plt.subplot(5, 6, i+1)\n",
        "    plt.hist(df[df.columns[i]], bins=100)\n",
        "    plt.title(df.columns[i])\n",
        "    \n",
        "plt.show()"
      ],
      "metadata": {
        "id": "IIFIcsWvs4bI",
        "colab": {
          "base_uri": "https://localhost:8080/",
          "height": 593
        },
        "outputId": "fd8a8d4b-e130-4adf-965e-c5831cec9867"
      },
      "execution_count": null,
      "outputs": [
        {
          "output_type": "display_data",
          "data": {
            "text/plain": [
              "<Figure size 3000x2500 with 17 Axes>"
            ],
            "image/png": "[encoded data removed]"
          },
          "metadata": {}
        }
      ]
    },
    {
      "cell_type": "code",
      "source": [
        "le = preprocessing.LabelEncoder()\n",
        "for i in cat_col:\n",
        "  df[i]=le.fit_transform(df[i])"
      ],
      "metadata": {
        "id": "IbgyhlnFeRc5"
      },
      "execution_count": null,
      "outputs": []
    },
    {
      "cell_type": "code",
      "execution_count": null,
      "metadata": {
        "id": "S1wPivE_-aWA",
        "colab": {
          "base_uri": "https://localhost:8080/",
          "height": 423
        },
        "outputId": "5aaa73eb-126c-4405-e54e-6203368edb38"
      },
      "outputs": [
        {
          "output_type": "execute_result",
          "data": {
            "text/plain": [
              "       age  job  marital  education  default  balance  housing  loan  contact  \\\n",
              "0       59    0        1          1        0     2343        1     0        2   \n",
              "1       56    0        1          1        0       45        0     0        2   \n",
              "2       41    9        1          1        0     1270        1     0        2   \n",
              "3       55    7        1          1        0     2476        1     0        2   \n",
              "4       54    0        1          2        0      184        0     0        2   \n",
              "...    ...  ...      ...        ...      ...      ...      ...   ...      ...   \n",
              "11157   33    1        2          0        0        1        1     0        0   \n",
              "11158   39    7        1          1        0      733        0     0        2   \n",
              "11159   32    9        2          1        0       29        0     0        0   \n",
              "11160   43    9        1          1        0        0        0     1        0   \n",
              "11161   34    9        1          1        0        0        0     0        0   \n",
              "\n",
              "       day  month  duration  campaign  pdays  previous  poutcome  deposit  \n",
              "0        5      8      1042         1     -1         0         3        1  \n",
              "1        5      8      1467         1     -1         0         3        1  \n",
              "2        5      8      1389         1     -1         0         3        1  \n",
              "3        5      8       579         1     -1         0         3        1  \n",
              "4        5      8       673         2     -1         0         3        1  \n",
              "...    ...    ...       ...       ...    ...       ...       ...      ...  \n",
              "11157   20      0       257         1     -1         0         3        0  \n",
              "11158   16      6        83         4     -1         0         3        0  \n",
              "11159   19      1       156         2     -1         0         3        0  \n",
              "11160    8      8         9         2    172         5         0        0  \n",
              "11161    9      5       628         1     -1         0         3        0  \n",
              "\n",
              "[11162 rows x 17 columns]"
            ],
            "text/html": [
              "\n",
              "  <div id=\"df-deb5b626-3106-48a2-ae6d-c4d8e3f43235\">\n",
              "    <div class=\"colab-df-container\">\n",
              "      <div>\n",
              "<style scoped>\n",
              "    .dataframe tbody tr th:only-of-type {\n",
              "        vertical-align: middle;\n",
              "    }\n",
              "\n",
              "    .dataframe tbody tr th {\n",
              "        vertical-align: top;\n",
              "    }\n",
              "\n",
              "    .dataframe thead th {\n",
              "        text-align: right;\n",
              "    }\n",
              "</style>\n",
              "<table border=\"1\" class=\"dataframe\">\n",
              "  <thead>\n",
              "    <tr style=\"text-align: right;\">\n",
              "      <th></th>\n",
              "      <th>age</th>\n",
              "      <th>job</th>\n",
              "      <th>marital</th>\n",
              "      <th>education</th>\n",
              "      <th>default</th>\n",
              "      <th>balance</th>\n",
              "      <th>housing</th>\n",
              "      <th>loan</th>\n",
              "      <th>contact</th>\n",
              "      <th>day</th>\n",
              "      <th>month</th>\n",
              "      <th>duration</th>\n",
              "      <th>campaign</th>\n",
              "      <th>pdays</th>\n",
              "      <th>previous</th>\n",
              "      <th>poutcome</th>\n",
              "      <th>deposit</th>\n",
              "    </tr>\n",
              "  </thead>\n",
              "  <tbody>\n",
              "    <tr>\n",
              "      <th>0</th>\n",
              "      <td>59</td>\n",
              "      <td>0</td>\n",
              "      <td>1</td>\n",
              "      <td>1</td>\n",
              "      <td>0</td>\n",
              "      <td>2343</td>\n",
              "      <td>1</td>\n",
              "      <td>0</td>\n",
              "      <td>2</td>\n",
              "      <td>5</td>\n",
              "      <td>8</td>\n",
              "      <td>1042</td>\n",
              "      <td>1</td>\n",
              "      <td>-1</td>\n",
              "      <td>0</td>\n",
              "      <td>3</td>\n",
              "      <td>1</td>\n",
              "    </tr>\n",
              "    <tr>\n",
              "      <th>1</th>\n",
              "      <td>56</td>\n",
              "      <td>0</td>\n",
              "      <td>1</td>\n",
              "      <td>1</td>\n",
              "      <td>0</td>\n",
              "      <td>45</td>\n",
              "      <td>0</td>\n",
              "      <td>0</td>\n",
              "      <td>2</td>\n",
              "      <td>5</td>\n",
              "      <td>8</td>\n",
              "      <td>1467</td>\n",
              "      <td>1</td>\n",
              "      <td>-1</td>\n",
              "      <td>0</td>\n",
              "      <td>3</td>\n",
              "      <td>1</td>\n",
              "    </tr>\n",
              "    <tr>\n",
              "      <th>2</th>\n",
              "      <td>41</td>\n",
              "      <td>9</td>\n",
              "      <td>1</td>\n",
              "      <td>1</td>\n",
              "      <td>0</td>\n",
              "      <td>1270</td>\n",
              "      <td>1</td>\n",
              "      <td>0</td>\n",
              "      <td>2</td>\n",
              "      <td>5</td>\n",
              "      <td>8</td>\n",
              "      <td>1389</td>\n",
              "      <td>1</td>\n",
              "      <td>-1</td>\n",
              "      <td>0</td>\n",
              "      <td>3</td>\n",
              "      <td>1</td>\n",
              "    </tr>\n",
              "    <tr>\n",
              "      <th>3</th>\n",
              "      <td>55</td>\n",
              "      <td>7</td>\n",
              "      <td>1</td>\n",
              "      <td>1</td>\n",
              "      <td>0</td>\n",
              "      <td>2476</td>\n",
              "      <td>1</td>\n",
              "      <td>0</td>\n",
              "      <td>2</td>\n",
              "      <td>5</td>\n",
              "      <td>8</td>\n",
              "      <td>579</td>\n",
              "      <td>1</td>\n",
              "      <td>-1</td>\n",
              "      <td>0</td>\n",
              "      <td>3</td>\n",
              "      <td>1</td>\n",
              "    </tr>\n",
              "    <tr>\n",
              "      <th>4</th>\n",
              "      <td>54</td>\n",
              "      <td>0</td>\n",
              "      <td>1</td>\n",
              "      <td>2</td>\n",
              "      <td>0</td>\n",
              "      <td>184</td>\n",
              "      <td>0</td>\n",
              "      <td>0</td>\n",
              "      <td>2</td>\n",
              "      <td>5</td>\n",
              "      <td>8</td>\n",
              "      <td>673</td>\n",
              "      <td>2</td>\n",
              "      <td>-1</td>\n",
              "      <td>0</td>\n",
              "      <td>3</td>\n",
              "      <td>1</td>\n",
              "    </tr>\n",
              "    <tr>\n",
              "      <th>...</th>\n",
              "      <td>...</td>\n",
              "      <td>...</td>\n",
              "      <td>...</td>\n",
              "      <td>...</td>\n",
              "      <td>...</td>\n",
              "      <td>...</td>\n",
              "      <td>...</td>\n",
              "      <td>...</td>\n",
              "      <td>...</td>\n",
              "      <td>...</td>\n",
              "      <td>...</td>\n",
              "      <td>...</td>\n",
              "      <td>...</td>\n",
              "      <td>...</td>\n",
              "      <td>...</td>\n",
              "      <td>...</td>\n",
              "      <td>...</td>\n",
              "    </tr>\n",
              "    <tr>\n",
              "      <th>11157</th>\n",
              "      <td>33</td>\n",
              "      <td>1</td>\n",
              "      <td>2</td>\n",
              "      <td>0</td>\n",
              "      <td>0</td>\n",
              "      <td>1</td>\n",
              "      <td>1</td>\n",
              "      <td>0</td>\n",
              "      <td>0</td>\n",
              "      <td>20</td>\n",
              "      <td>0</td>\n",
              "      <td>257</td>\n",
              "      <td>1</td>\n",
              "      <td>-1</td>\n",
              "      <td>0</td>\n",
              "      <td>3</td>\n",
              "      <td>0</td>\n",
              "    </tr>\n",
              "    <tr>\n",
              "      <th>11158</th>\n",
              "      <td>39</td>\n",
              "      <td>7</td>\n",
              "      <td>1</td>\n",
              "      <td>1</td>\n",
              "      <td>0</td>\n",
              "      <td>733</td>\n",
              "      <td>0</td>\n",
              "      <td>0</td>\n",
              "      <td>2</td>\n",
              "      <td>16</td>\n",
              "      <td>6</td>\n",
              "      <td>83</td>\n",
              "      <td>4</td>\n",
              "      <td>-1</td>\n",
              "      <td>0</td>\n",
              "      <td>3</td>\n",
              "      <td>0</td>\n",
              "    </tr>\n",
              "    <tr>\n",
              "      <th>11159</th>\n",
              "      <td>32</td>\n",
              "      <td>9</td>\n",
              "      <td>2</td>\n",
              "      <td>1</td>\n",
              "      <td>0</td>\n",
              "      <td>29</td>\n",
              "      <td>0</td>\n",
              "      <td>0</td>\n",
              "      <td>0</td>\n",
              "      <td>19</td>\n",
              "      <td>1</td>\n",
              "      <td>156</td>\n",
              "      <td>2</td>\n",
              "      <td>-1</td>\n",
              "      <td>0</td>\n",
              "      <td>3</td>\n",
              "      <td>0</td>\n",
              "    </tr>\n",
              "    <tr>\n",
              "      <th>11160</th>\n",
              "      <td>43</td>\n",
              "      <td>9</td>\n",
              "      <td>1</td>\n",
              "      <td>1</td>\n",
              "      <td>0</td>\n",
              "      <td>0</td>\n",
              "      <td>0</td>\n",
              "      <td>1</td>\n",
              "      <td>0</td>\n",
              "      <td>8</td>\n",
              "      <td>8</td>\n",
              "      <td>9</td>\n",
              "      <td>2</td>\n",
              "      <td>172</td>\n",
              "      <td>5</td>\n",
              "      <td>0</td>\n",
              "      <td>0</td>\n",
              "    </tr>\n",
              "    <tr>\n",
              "      <th>11161</th>\n",
              "      <td>34</td>\n",
              "      <td>9</td>\n",
              "      <td>1</td>\n",
              "      <td>1</td>\n",
              "      <td>0</td>\n",
              "      <td>0</td>\n",
              "      <td>0</td>\n",
              "      <td>0</td>\n",
              "      <td>0</td>\n",
              "      <td>9</td>\n",
              "      <td>5</td>\n",
              "      <td>628</td>\n",
              "      <td>1</td>\n",
              "      <td>-1</td>\n",
              "      <td>0</td>\n",
              "      <td>3</td>\n",
              "      <td>0</td>\n",
              "    </tr>\n",
              "  </tbody>\n",
              "</table>\n",
              "<p>11162 rows × 17 columns</p>\n",
              "</div>\n",
              "      <button class=\"colab-df-convert\" onclick=\"convertToInteractive('df-deb5b626-3106-48a2-ae6d-c4d8e3f43235')\"\n",
              "              title=\"Convert this dataframe to an interactive table.\"\n",
              "              style=\"display:none;\">\n",
              "        \n",
              "  <svg xmlns=\"http://www.w3.org/2000/svg\" height=\"24px\"viewBox=\"0 0 24 24\"\n",
              "       width=\"24px\">\n",
              "    <path d=\"M0 0h24v24H0V0z\" fill=\"none\"/>\n",
              "    <path d=\"M18.56 5.44l.94 2.06.94-2.06 2.06-.94-2.06-.94-.94-2.06-.94 2.06-2.06.94zm-11 1L8.5 8.5l.94-2.06 2.06-.94-2.06-.94L8.5 2.5l-.94 2.06-2.06.94zm10 10l.94 2.06.94-2.06 2.06-.94-2.06-.94-.94-2.06-.94 2.06-2.06.94z\"/><path d=\"M17.41 7.96l-1.37-1.37c-.4-.4-.92-.59-1.43-.59-.52 0-1.04.2-1.43.59L10.3 9.45l-7.72 7.72c-.78.78-.78 2.05 0 2.83L4 21.41c.39.39.9.59 1.41.59.51 0 1.02-.2 1.41-.59l7.78-7.78 2.81-2.81c.8-.78.8-2.07 0-2.86zM5.41 20L4 18.59l7.72-7.72 1.47 1.35L5.41 20z\"/>\n",
              "  </svg>\n",
              "      </button>\n",
              "      \n",
              "  <style>\n",
              "    .colab-df-container {\n",
              "      display:flex;\n",
              "      flex-wrap:wrap;\n",
              "      gap: 12px;\n",
              "    }\n",
              "\n",
              "    .colab-df-convert {\n",
              "      background-color: #E8F0FE;\n",
              "      border: none;\n",
              "      border-radius: 50%;\n",
              "      cursor: pointer;\n",
              "      display: none;\n",
              "      fill: #1967D2;\n",
              "      height: 32px;\n",
              "      padding: 0 0 0 0;\n",
              "      width: 32px;\n",
              "    }\n",
              "\n",
              "    .colab-df-convert:hover {\n",
              "      background-color: #E2EBFA;\n",
              "      box-shadow: 0px 1px 2px rgba(60, 64, 67, 0.3), 0px 1px 3px 1px rgba(60, 64, 67, 0.15);\n",
              "      fill: #174EA6;\n",
              "    }\n",
              "\n",
              "    [theme=dark] .colab-df-convert {\n",
              "      background-color: #3B4455;\n",
              "      fill: #D2E3FC;\n",
              "    }\n",
              "\n",
              "    [theme=dark] .colab-df-convert:hover {\n",
              "      background-color: #434B5C;\n",
              "      box-shadow: 0px 1px 3px 1px rgba(0, 0, 0, 0.15);\n",
              "      filter: drop-shadow(0px 1px 2px rgba(0, 0, 0, 0.3));\n",
              "      fill: #FFFFFF;\n",
              "    }\n",
              "  </style>\n",
              "\n",
              "      <script>\n",
              "        const buttonEl =\n",
              "          document.querySelector('#df-deb5b626-3106-48a2-ae6d-c4d8e3f43235 button.colab-df-convert');\n",
              "        buttonEl.style.display =\n",
              "          google.colab.kernel.accessAllowed ? 'block' : 'none';\n",
              "\n",
              "        async function convertToInteractive(key) {\n",
              "          const element = document.querySelector('#df-deb5b626-3106-48a2-ae6d-c4d8e3f43235');\n",
              "          const dataTable =\n",
              "            await google.colab.kernel.invokeFunction('convertToInteractive',\n",
              "                                                     [key], {});\n",
              "          if (!dataTable) return;\n",
              "\n",
              "          const docLinkHtml = 'Like what you see? Visit the ' +\n",
              "            '<a target=\"_blank\" href=https://colab.research.google.com/notebooks/data_table.ipynb>data table notebook</a>'\n",
              "            + ' to learn more about interactive tables.';\n",
              "          element.innerHTML = '';\n",
              "          dataTable['output_type'] = 'display_data';\n",
              "          await google.colab.output.renderOutput(dataTable, element);\n",
              "          const docLink = document.createElement('div');\n",
              "          docLink.innerHTML = docLinkHtml;\n",
              "          element.appendChild(docLink);\n",
              "        }\n",
              "      </script>\n",
              "    </div>\n",
              "  </div>\n",
              "  "
            ]
          },
          "metadata": {},
          "execution_count": 101
        }
      ],
      "source": [
        "df"
      ]
    },
    {
      "cell_type": "code",
      "execution_count": null,
      "metadata": {
        "id": "DuYmDic4EysC",
        "colab": {
          "base_uri": "https://localhost:8080/"
        },
        "outputId": "8b9e45cc-4531-4983-f458-d4585c26625e"
      },
      "outputs": [
        {
          "output_type": "execute_result",
          "data": {
            "text/plain": [
              "age          int64\n",
              "job          int64\n",
              "marital      int64\n",
              "education    int64\n",
              "default      int64\n",
              "balance      int64\n",
              "housing      int64\n",
              "loan         int64\n",
              "contact      int64\n",
              "day          int64\n",
              "month        int64\n",
              "duration     int64\n",
              "campaign     int64\n",
              "pdays        int64\n",
              "previous     int64\n",
              "poutcome     int64\n",
              "deposit      int64\n",
              "dtype: object"
            ]
          },
          "metadata": {},
          "execution_count": 102
        }
      ],
      "source": [
        "df.dtypes"
      ]
    },
    {
      "cell_type": "code",
      "source": [
        "plt.figure(figsize=(15, 15))\n",
        "sns.heatmap(df.corr(), annot=True, cmap='PiYG')\n"
      ],
      "metadata": {
        "id": "HuBywjD4cW4y",
        "colab": {
          "base_uri": "https://localhost:8080/",
          "height": 1000
        },
        "outputId": "01cfab40-8c12-43ee-cd08-77c6770e5316"
      },
      "execution_count": null,
      "outputs": [
        {
          "output_type": "execute_result",
          "data": {
            "text/plain": [
              "<Axes: >"
            ]
          },
          "metadata": {},
          "execution_count": 103
        },
        {
          "output_type": "display_data",
          "data": {
            "text/plain": [
              "<Figure size 1500x1500 with 2 Axes>"
            ],
            "image/png": "[encoded data removed]"
          },
          "metadata": {}
        }
      ]
    },
    {
      "cell_type": "code",
      "source": [
        "df.corr()"
      ],
      "metadata": {
        "id": "Xuwznr_8dyvj",
        "colab": {
          "base_uri": "https://localhost:8080/",
          "height": 646
        },
        "outputId": "a7fc1666-c285-4838-ebbd-3d39c5976ad2"
      },
      "execution_count": null,
      "outputs": [
        {
          "output_type": "execute_result",
          "data": {
            "text/plain": [
              "                age       job   marital  education   default   balance  \\\n",
              "age        1.000000 -0.031603 -0.442782  -0.126018 -0.011425  0.112300   \n",
              "job       -0.031603  1.000000  0.078314   0.147046 -0.007066  0.028736   \n",
              "marital   -0.442782  0.078314  1.000000   0.125845 -0.014691 -0.002138   \n",
              "education -0.126018  0.147046  0.125845   1.000000 -0.010709  0.051728   \n",
              "default   -0.011425 -0.007066 -0.014691  -0.010709  1.000000 -0.060954   \n",
              "balance    0.112300  0.028736 -0.002138   0.051728 -0.060954  1.000000   \n",
              "housing   -0.168700 -0.136965 -0.036345  -0.109168  0.011076 -0.077092   \n",
              "loan      -0.031418 -0.067092 -0.062029  -0.073154  0.076434 -0.084589   \n",
              "contact    0.027762 -0.087915 -0.060456  -0.132540  0.035709 -0.027295   \n",
              "day       -0.000762  0.026589 -0.003642   0.016759  0.017342  0.010467   \n",
              "month     -0.026130 -0.076011 -0.004070  -0.055868  0.000950  0.007264   \n",
              "duration   0.000189  0.002432  0.006781  -0.019122 -0.009760  0.022436   \n",
              "campaign  -0.005278  0.003104 -0.030794  -0.005327  0.030975 -0.013894   \n",
              "pdays      0.002774 -0.003385  0.031200   0.025165 -0.036282  0.017411   \n",
              "previous   0.020169  0.012665  0.031281   0.022427 -0.035273  0.030805   \n",
              "poutcome  -0.002699 -0.004238 -0.039424  -0.040262  0.042357 -0.027151   \n",
              "deposit    0.034901  0.063395  0.067610   0.095948 -0.040680  0.081129   \n",
              "\n",
              "            housing      loan   contact       day     month  duration  \\\n",
              "age       -0.168700 -0.031418  0.027762 -0.000762 -0.026130  0.000189   \n",
              "job       -0.136965 -0.067092 -0.087915  0.026589 -0.076011  0.002432   \n",
              "marital   -0.036345 -0.062029 -0.060456 -0.003642 -0.004070  0.006781   \n",
              "education -0.109168 -0.073154 -0.132540  0.016759 -0.055868 -0.019122   \n",
              "default    0.011076  0.076434  0.035709  0.017342  0.000950 -0.009760   \n",
              "balance   -0.077092 -0.084589 -0.027295  0.010467  0.007264  0.022436   \n",
              "housing    1.000000  0.076761  0.226392 -0.014770  0.219602  0.035051   \n",
              "loan       0.076761  1.000000  0.006829  0.017269  0.025329 -0.001914   \n",
              "contact    0.226392  0.006829  1.000000  0.007943  0.289803 -0.018000   \n",
              "day       -0.014770  0.017269  0.007943  1.000000 -0.019840 -0.018511   \n",
              "month      0.219602  0.025329  0.289803 -0.019840  1.000000 -0.006482   \n",
              "duration   0.035051 -0.001914 -0.018000 -0.018511 -0.006482  1.000000   \n",
              "campaign   0.006660  0.034722  0.059258  0.137007 -0.098123 -0.041557   \n",
              "pdays      0.064497 -0.030416 -0.227785 -0.077232  0.033631 -0.027392   \n",
              "previous  -0.000840 -0.022668 -0.169919 -0.058981  0.029283 -0.026716   \n",
              "poutcome  -0.046370  0.026344  0.257993  0.080221 -0.042456  0.042171   \n",
              "deposit   -0.203888 -0.110580 -0.249847 -0.056326 -0.037121  0.451919   \n",
              "\n",
              "           campaign     pdays  previous  poutcome   deposit  \n",
              "age       -0.005278  0.002774  0.020169 -0.002699  0.034901  \n",
              "job        0.003104 -0.003385  0.012665 -0.004238  0.063395  \n",
              "marital   -0.030794  0.031200  0.031281 -0.039424  0.067610  \n",
              "education -0.005327  0.025165  0.022427 -0.040262  0.095948  \n",
              "default    0.030975 -0.036282 -0.035273  0.042357 -0.040680  \n",
              "balance   -0.013894  0.017411  0.030805 -0.027151  0.081129  \n",
              "housing    0.006660  0.064497 -0.000840 -0.046370 -0.203888  \n",
              "loan       0.034722 -0.030416 -0.022668  0.026344 -0.110580  \n",
              "contact    0.059258 -0.227785 -0.169919  0.257993 -0.249847  \n",
              "day        0.137007 -0.077232 -0.058981  0.080221 -0.056326  \n",
              "month     -0.098123  0.033631  0.029283 -0.042456 -0.037121  \n",
              "duration  -0.041557 -0.027392 -0.026716  0.042171  0.451919  \n",
              "campaign   1.000000 -0.102726 -0.049699  0.112127 -0.128081  \n",
              "pdays     -0.102726  1.000000  0.507272 -0.806533  0.151593  \n",
              "previous  -0.049699  0.507272  1.000000 -0.549333  0.139867  \n",
              "poutcome   0.112127 -0.806533 -0.549333  1.000000 -0.122369  \n",
              "deposit   -0.128081  0.151593  0.139867 -0.122369  1.000000  "
            ],
            "text/html": [
              "\n",
              "  <div id=\"df-05b4a94f-10b1-452a-b0a6-822cd62fa272\">\n",
              "    <div class=\"colab-df-container\">\n",
              "      <div>\n",
              "<style scoped>\n",
              "    .dataframe tbody tr th:only-of-type {\n",
              "        vertical-align: middle;\n",
              "    }\n",
              "\n",
              "    .dataframe tbody tr th {\n",
              "        vertical-align: top;\n",
              "    }\n",
              "\n",
              "    .dataframe thead th {\n",
              "        text-align: right;\n",
              "    }\n",
              "</style>\n",
              "<table border=\"1\" class=\"dataframe\">\n",
              "  <thead>\n",
              "    <tr style=\"text-align: right;\">\n",
              "      <th></th>\n",
              "      <th>age</th>\n",
              "      <th>job</th>\n",
              "      <th>marital</th>\n",
              "      <th>education</th>\n",
              "      <th>default</th>\n",
              "      <th>balance</th>\n",
              "      <th>housing</th>\n",
              "      <th>loan</th>\n",
              "      <th>contact</th>\n",
              "      <th>day</th>\n",
              "      <th>month</th>\n",
              "      <th>duration</th>\n",
              "      <th>campaign</th>\n",
              "      <th>pdays</th>\n",
              "      <th>previous</th>\n",
              "      <th>poutcome</th>\n",
              "      <th>deposit</th>\n",
              "    </tr>\n",
              "  </thead>\n",
              "  <tbody>\n",
              "    <tr>\n",
              "      <th>age</th>\n",
              "      <td>1.000000</td>\n",
              "      <td>-0.031603</td>\n",
              "      <td>-0.442782</td>\n",
              "      <td>-0.126018</td>\n",
              "      <td>-0.011425</td>\n",
              "      <td>0.112300</td>\n",
              "      <td>-0.168700</td>\n",
              "      <td>-0.031418</td>\n",
              "      <td>0.027762</td>\n",
              "      <td>-0.000762</td>\n",
              "      <td>-0.026130</td>\n",
              "      <td>0.000189</td>\n",
              "      <td>-0.005278</td>\n",
              "      <td>0.002774</td>\n",
              "      <td>0.020169</td>\n",
              "      <td>-0.002699</td>\n",
              "      <td>0.034901</td>\n",
              "    </tr>\n",
              "    <tr>\n",
              "      <th>job</th>\n",
              "      <td>-0.031603</td>\n",
              "      <td>1.000000</td>\n",
              "      <td>0.078314</td>\n",
              "      <td>0.147046</td>\n",
              "      <td>-0.007066</td>\n",
              "      <td>0.028736</td>\n",
              "      <td>-0.136965</td>\n",
              "      <td>-0.067092</td>\n",
              "      <td>-0.087915</td>\n",
              "      <td>0.026589</td>\n",
              "      <td>-0.076011</td>\n",
              "      <td>0.002432</td>\n",
              "      <td>0.003104</td>\n",
              "      <td>-0.003385</td>\n",
              "      <td>0.012665</td>\n",
              "      <td>-0.004238</td>\n",
              "      <td>0.063395</td>\n",
              "    </tr>\n",
              "    <tr>\n",
              "      <th>marital</th>\n",
              "      <td>-0.442782</td>\n",
              "      <td>0.078314</td>\n",
              "      <td>1.000000</td>\n",
              "      <td>0.125845</td>\n",
              "      <td>-0.014691</td>\n",
              "      <td>-0.002138</td>\n",
              "      <td>-0.036345</td>\n",
              "      <td>-0.062029</td>\n",
              "      <td>-0.060456</td>\n",
              "      <td>-0.003642</td>\n",
              "      <td>-0.004070</td>\n",
              "      <td>0.006781</td>\n",
              "      <td>-0.030794</td>\n",
              "      <td>0.031200</td>\n",
              "      <td>0.031281</td>\n",
              "      <td>-0.039424</td>\n",
              "      <td>0.067610</td>\n",
              "    </tr>\n",
              "    <tr>\n",
              "      <th>education</th>\n",
              "      <td>-0.126018</td>\n",
              "      <td>0.147046</td>\n",
              "      <td>0.125845</td>\n",
              "      <td>1.000000</td>\n",
              "      <td>-0.010709</td>\n",
              "      <td>0.051728</td>\n",
              "      <td>-0.109168</td>\n",
              "      <td>-0.073154</td>\n",
              "      <td>-0.132540</td>\n",
              "      <td>0.016759</td>\n",
              "      <td>-0.055868</td>\n",
              "      <td>-0.019122</td>\n",
              "      <td>-0.005327</td>\n",
              "      <td>0.025165</td>\n",
              "      <td>0.022427</td>\n",
              "      <td>-0.040262</td>\n",
              "      <td>0.095948</td>\n",
              "    </tr>\n",
              "    <tr>\n",
              "      <th>default</th>\n",
              "      <td>-0.011425</td>\n",
              "      <td>-0.007066</td>\n",
              "      <td>-0.014691</td>\n",
              "      <td>-0.010709</td>\n",
              "      <td>1.000000</td>\n",
              "      <td>-0.060954</td>\n",
              "      <td>0.011076</td>\n",
              "      <td>0.076434</td>\n",
              "      <td>0.035709</td>\n",
              "      <td>0.017342</td>\n",
              "      <td>0.000950</td>\n",
              "      <td>-0.009760</td>\n",
              "      <td>0.030975</td>\n",
              "      <td>-0.036282</td>\n",
              "      <td>-0.035273</td>\n",
              "      <td>0.042357</td>\n",
              "      <td>-0.040680</td>\n",
              "    </tr>\n",
              "    <tr>\n",
              "      <th>balance</th>\n",
              "      <td>0.112300</td>\n",
              "      <td>0.028736</td>\n",
              "      <td>-0.002138</td>\n",
              "      <td>0.051728</td>\n",
              "      <td>-0.060954</td>\n",
              "      <td>1.000000</td>\n",
              "      <td>-0.077092</td>\n",
              "      <td>-0.084589</td>\n",
              "      <td>-0.027295</td>\n",
              "      <td>0.010467</td>\n",
              "      <td>0.007264</td>\n",
              "      <td>0.022436</td>\n",
              "      <td>-0.013894</td>\n",
              "      <td>0.017411</td>\n",
              "      <td>0.030805</td>\n",
              "      <td>-0.027151</td>\n",
              "      <td>0.081129</td>\n",
              "    </tr>\n",
              "    <tr>\n",
              "      <th>housing</th>\n",
              "      <td>-0.168700</td>\n",
              "      <td>-0.136965</td>\n",
              "      <td>-0.036345</td>\n",
              "      <td>-0.109168</td>\n",
              "      <td>0.011076</td>\n",
              "      <td>-0.077092</td>\n",
              "      <td>1.000000</td>\n",
              "      <td>0.076761</td>\n",
              "      <td>0.226392</td>\n",
              "      <td>-0.014770</td>\n",
              "      <td>0.219602</td>\n",
              "      <td>0.035051</td>\n",
              "      <td>0.006660</td>\n",
              "      <td>0.064497</td>\n",
              "      <td>-0.000840</td>\n",
              "      <td>-0.046370</td>\n",
              "      <td>-0.203888</td>\n",
              "    </tr>\n",
              "    <tr>\n",
              "      <th>loan</th>\n",
              "      <td>-0.031418</td>\n",
              "      <td>-0.067092</td>\n",
              "      <td>-0.062029</td>\n",
              "      <td>-0.073154</td>\n",
              "      <td>0.076434</td>\n",
              "      <td>-0.084589</td>\n",
              "      <td>0.076761</td>\n",
              "      <td>1.000000</td>\n",
              "      <td>0.006829</td>\n",
              "      <td>0.017269</td>\n",
              "      <td>0.025329</td>\n",
              "      <td>-0.001914</td>\n",
              "      <td>0.034722</td>\n",
              "      <td>-0.030416</td>\n",
              "      <td>-0.022668</td>\n",
              "      <td>0.026344</td>\n",
              "      <td>-0.110580</td>\n",
              "    </tr>\n",
              "    <tr>\n",
              "      <th>contact</th>\n",
              "      <td>0.027762</td>\n",
              "      <td>-0.087915</td>\n",
              "      <td>-0.060456</td>\n",
              "      <td>-0.132540</td>\n",
              "      <td>0.035709</td>\n",
              "      <td>-0.027295</td>\n",
              "      <td>0.226392</td>\n",
              "      <td>0.006829</td>\n",
              "      <td>1.000000</td>\n",
              "      <td>0.007943</td>\n",
              "      <td>0.289803</td>\n",
              "      <td>-0.018000</td>\n",
              "      <td>0.059258</td>\n",
              "      <td>-0.227785</td>\n",
              "      <td>-0.169919</td>\n",
              "      <td>0.257993</td>\n",
              "      <td>-0.249847</td>\n",
              "    </tr>\n",
              "    <tr>\n",
              "      <th>day</th>\n",
              "      <td>-0.000762</td>\n",
              "      <td>0.026589</td>\n",
              "      <td>-0.003642</td>\n",
              "      <td>0.016759</td>\n",
              "      <td>0.017342</td>\n",
              "      <td>0.010467</td>\n",
              "      <td>-0.014770</td>\n",
              "      <td>0.017269</td>\n",
              "      <td>0.007943</td>\n",
              "      <td>1.000000</td>\n",
              "      <td>-0.019840</td>\n",
              "      <td>-0.018511</td>\n",
              "      <td>0.137007</td>\n",
              "      <td>-0.077232</td>\n",
              "      <td>-0.058981</td>\n",
              "      <td>0.080221</td>\n",
              "      <td>-0.056326</td>\n",
              "    </tr>\n",
              "    <tr>\n",
              "      <th>month</th>\n",
              "      <td>-0.026130</td>\n",
              "      <td>-0.076011</td>\n",
              "      <td>-0.004070</td>\n",
              "      <td>-0.055868</td>\n",
              "      <td>0.000950</td>\n",
              "      <td>0.007264</td>\n",
              "      <td>0.219602</td>\n",
              "      <td>0.025329</td>\n",
              "      <td>0.289803</td>\n",
              "      <td>-0.019840</td>\n",
              "      <td>1.000000</td>\n",
              "      <td>-0.006482</td>\n",
              "      <td>-0.098123</td>\n",
              "      <td>0.033631</td>\n",
              "      <td>0.029283</td>\n",
              "      <td>-0.042456</td>\n",
              "      <td>-0.037121</td>\n",
              "    </tr>\n",
              "    <tr>\n",
              "      <th>duration</th>\n",
              "      <td>0.000189</td>\n",
              "      <td>0.002432</td>\n",
              "      <td>0.006781</td>\n",
              "      <td>-0.019122</td>\n",
              "      <td>-0.009760</td>\n",
              "      <td>0.022436</td>\n",
              "      <td>0.035051</td>\n",
              "      <td>-0.001914</td>\n",
              "      <td>-0.018000</td>\n",
              "      <td>-0.018511</td>\n",
              "      <td>-0.006482</td>\n",
              "      <td>1.000000</td>\n",
              "      <td>-0.041557</td>\n",
              "      <td>-0.027392</td>\n",
              "      <td>-0.026716</td>\n",
              "      <td>0.042171</td>\n",
              "      <td>0.451919</td>\n",
              "    </tr>\n",
              "    <tr>\n",
              "      <th>campaign</th>\n",
              "      <td>-0.005278</td>\n",
              "      <td>0.003104</td>\n",
              "      <td>-0.030794</td>\n",
              "      <td>-0.005327</td>\n",
              "      <td>0.030975</td>\n",
              "      <td>-0.013894</td>\n",
              "      <td>0.006660</td>\n",
              "      <td>0.034722</td>\n",
              "      <td>0.059258</td>\n",
              "      <td>0.137007</td>\n",
              "      <td>-0.098123</td>\n",
              "      <td>-0.041557</td>\n",
              "      <td>1.000000</td>\n",
              "      <td>-0.102726</td>\n",
              "      <td>-0.049699</td>\n",
              "      <td>0.112127</td>\n",
              "      <td>-0.128081</td>\n",
              "    </tr>\n",
              "    <tr>\n",
              "      <th>pdays</th>\n",
              "      <td>0.002774</td>\n",
              "      <td>-0.003385</td>\n",
              "      <td>0.031200</td>\n",
              "      <td>0.025165</td>\n",
              "      <td>-0.036282</td>\n",
              "      <td>0.017411</td>\n",
              "      <td>0.064497</td>\n",
              "      <td>-0.030416</td>\n",
              "      <td>-0.227785</td>\n",
              "      <td>-0.077232</td>\n",
              "      <td>0.033631</td>\n",
              "      <td>-0.027392</td>\n",
              "      <td>-0.102726</td>\n",
              "      <td>1.000000</td>\n",
              "      <td>0.507272</td>\n",
              "      <td>-0.806533</td>\n",
              "      <td>0.151593</td>\n",
              "    </tr>\n",
              "    <tr>\n",
              "      <th>previous</th>\n",
              "      <td>0.020169</td>\n",
              "      <td>0.012665</td>\n",
              "      <td>0.031281</td>\n",
              "      <td>0.022427</td>\n",
              "      <td>-0.035273</td>\n",
              "      <td>0.030805</td>\n",
              "      <td>-0.000840</td>\n",
              "      <td>-0.022668</td>\n",
              "      <td>-0.169919</td>\n",
              "      <td>-0.058981</td>\n",
              "      <td>0.029283</td>\n",
              "      <td>-0.026716</td>\n",
              "      <td>-0.049699</td>\n",
              "      <td>0.507272</td>\n",
              "      <td>1.000000</td>\n",
              "      <td>-0.549333</td>\n",
              "      <td>0.139867</td>\n",
              "    </tr>\n",
              "    <tr>\n",
              "      <th>poutcome</th>\n",
              "      <td>-0.002699</td>\n",
              "      <td>-0.004238</td>\n",
              "      <td>-0.039424</td>\n",
              "      <td>-0.040262</td>\n",
              "      <td>0.042357</td>\n",
              "      <td>-0.027151</td>\n",
              "      <td>-0.046370</td>\n",
              "      <td>0.026344</td>\n",
              "      <td>0.257993</td>\n",
              "      <td>0.080221</td>\n",
              "      <td>-0.042456</td>\n",
              "      <td>0.042171</td>\n",
              "      <td>0.112127</td>\n",
              "      <td>-0.806533</td>\n",
              "      <td>-0.549333</td>\n",
              "      <td>1.000000</td>\n",
              "      <td>-0.122369</td>\n",
              "    </tr>\n",
              "    <tr>\n",
              "      <th>deposit</th>\n",
              "      <td>0.034901</td>\n",
              "      <td>0.063395</td>\n",
              "      <td>0.067610</td>\n",
              "      <td>0.095948</td>\n",
              "      <td>-0.040680</td>\n",
              "      <td>0.081129</td>\n",
              "      <td>-0.203888</td>\n",
              "      <td>-0.110580</td>\n",
              "      <td>-0.249847</td>\n",
              "      <td>-0.056326</td>\n",
              "      <td>-0.037121</td>\n",
              "      <td>0.451919</td>\n",
              "      <td>-0.128081</td>\n",
              "      <td>0.151593</td>\n",
              "      <td>0.139867</td>\n",
              "      <td>-0.122369</td>\n",
              "      <td>1.000000</td>\n",
              "    </tr>\n",
              "  </tbody>\n",
              "</table>\n",
              "</div>\n",
              "      <button class=\"colab-df-convert\" onclick=\"convertToInteractive('df-05b4a94f-10b1-452a-b0a6-822cd62fa272')\"\n",
              "              title=\"Convert this dataframe to an interactive table.\"\n",
              "              style=\"display:none;\">\n",
              "        \n",
              "  <svg xmlns=\"http://www.w3.org/2000/svg\" height=\"24px\"viewBox=\"0 0 24 24\"\n",
              "       width=\"24px\">\n",
              "    <path d=\"M0 0h24v24H0V0z\" fill=\"none\"/>\n",
              "    <path d=\"M18.56 5.44l.94 2.06.94-2.06 2.06-.94-2.06-.94-.94-2.06-.94 2.06-2.06.94zm-11 1L8.5 8.5l.94-2.06 2.06-.94-2.06-.94L8.5 2.5l-.94 2.06-2.06.94zm10 10l.94 2.06.94-2.06 2.06-.94-2.06-.94-.94-2.06-.94 2.06-2.06.94z\"/><path d=\"M17.41 7.96l-1.37-1.37c-.4-.4-.92-.59-1.43-.59-.52 0-1.04.2-1.43.59L10.3 9.45l-7.72 7.72c-.78.78-.78 2.05 0 2.83L4 21.41c.39.39.9.59 1.41.59.51 0 1.02-.2 1.41-.59l7.78-7.78 2.81-2.81c.8-.78.8-2.07 0-2.86zM5.41 20L4 18.59l7.72-7.72 1.47 1.35L5.41 20z\"/>\n",
              "  </svg>\n",
              "      </button>\n",
              "      \n",
              "  <style>\n",
              "    .colab-df-container {\n",
              "      display:flex;\n",
              "      flex-wrap:wrap;\n",
              "      gap: 12px;\n",
              "    }\n",
              "\n",
              "    .colab-df-convert {\n",
              "      background-color: #E8F0FE;\n",
              "      border: none;\n",
              "      border-radius: 50%;\n",
              "      cursor: pointer;\n",
              "      display: none;\n",
              "      fill: #1967D2;\n",
              "      height: 32px;\n",
              "      padding: 0 0 0 0;\n",
              "      width: 32px;\n",
              "    }\n",
              "\n",
              "    .colab-df-convert:hover {\n",
              "      background-color: #E2EBFA;\n",
              "      box-shadow: 0px 1px 2px rgba(60, 64, 67, 0.3), 0px 1px 3px 1px rgba(60, 64, 67, 0.15);\n",
              "      fill: #174EA6;\n",
              "    }\n",
              "\n",
              "    [theme=dark] .colab-df-convert {\n",
              "      background-color: #3B4455;\n",
              "      fill: #D2E3FC;\n",
              "    }\n",
              "\n",
              "    [theme=dark] .colab-df-convert:hover {\n",
              "      background-color: #434B5C;\n",
              "      box-shadow: 0px 1px 3px 1px rgba(0, 0, 0, 0.15);\n",
              "      filter: drop-shadow(0px 1px 2px rgba(0, 0, 0, 0.3));\n",
              "      fill: #FFFFFF;\n",
              "    }\n",
              "  </style>\n",
              "\n",
              "      <script>\n",
              "        const buttonEl =\n",
              "          document.querySelector('#df-05b4a94f-10b1-452a-b0a6-822cd62fa272 button.colab-df-convert');\n",
              "        buttonEl.style.display =\n",
              "          google.colab.kernel.accessAllowed ? 'block' : 'none';\n",
              "\n",
              "        async function convertToInteractive(key) {\n",
              "          const element = document.querySelector('#df-05b4a94f-10b1-452a-b0a6-822cd62fa272');\n",
              "          const dataTable =\n",
              "            await google.colab.kernel.invokeFunction('convertToInteractive',\n",
              "                                                     [key], {});\n",
              "          if (!dataTable) return;\n",
              "\n",
              "          const docLinkHtml = 'Like what you see? Visit the ' +\n",
              "            '<a target=\"_blank\" href=https://colab.research.google.com/notebooks/data_table.ipynb>data table notebook</a>'\n",
              "            + ' to learn more about interactive tables.';\n",
              "          element.innerHTML = '';\n",
              "          dataTable['output_type'] = 'display_data';\n",
              "          await google.colab.output.renderOutput(dataTable, element);\n",
              "          const docLink = document.createElement('div');\n",
              "          docLink.innerHTML = docLinkHtml;\n",
              "          element.appendChild(docLink);\n",
              "        }\n",
              "      </script>\n",
              "    </div>\n",
              "  </div>\n",
              "  "
            ]
          },
          "metadata": {},
          "execution_count": 104
        }
      ]
    },
    {
      "cell_type": "code",
      "source": [
        "def correlate(ds,threshold):\n",
        "  col_corr = set()\n",
        "  cor_matrix = ds.corr()\n",
        "  for i in range(len(cor_matrix.columns)):\n",
        "    for j in range(i):\n",
        "      if abs(cor_matrix.iloc[i,j]) > threshold:\n",
        "        col_corr.add(cor_matrix.columns[i])\n",
        "  return col_corr"
      ],
      "metadata": {
        "id": "3OWskryVgCZR"
      },
      "execution_count": null,
      "outputs": []
    },
    {
      "cell_type": "code",
      "source": [
        "cor_features = correlate(df,0.85)\n",
        "print(cor_features)\n"
      ],
      "metadata": {
        "id": "8r5CJZUIhgmN",
        "colab": {
          "base_uri": "https://localhost:8080/"
        },
        "outputId": "e55f7f81-80d8-44a2-db89-a03b46656e1b"
      },
      "execution_count": null,
      "outputs": [
        {
          "output_type": "stream",
          "name": "stdout",
          "text": [
            "set()\n"
          ]
        }
      ]
    },
    {
      "cell_type": "code",
      "source": [
        "print(len(cor_features))"
      ],
      "metadata": {
        "id": "ckmOamfGiPno",
        "colab": {
          "base_uri": "https://localhost:8080/"
        },
        "outputId": "17c53abe-3be7-4279-86cc-15ed0ea99e50"
      },
      "execution_count": null,
      "outputs": [
        {
          "output_type": "stream",
          "name": "stdout",
          "text": [
            "0\n"
          ]
        }
      ]
    },
    {
      "cell_type": "code",
      "source": [
        "var = VarianceThreshold(threshold = 0.1)\n",
        "var.fit(df)\n",
        "concol1 = [column for column in df.columns \n",
        "          if column not in df.columns[var.get_support()]]\n",
        "df.drop(concol1,axis=1,inplace = True)\n"
      ],
      "metadata": {
        "id": "XFWyKAFfob6s"
      },
      "execution_count": null,
      "outputs": []
    },
    {
      "cell_type": "code",
      "source": [
        "print(concol1)"
      ],
      "metadata": {
        "id": "nhrREVBIx8Bf",
        "colab": {
          "base_uri": "https://localhost:8080/"
        },
        "outputId": "28c2bf92-f511-4466-9786-7ccc47906b66"
      },
      "execution_count": null,
      "outputs": [
        {
          "output_type": "stream",
          "name": "stdout",
          "text": [
            "['default']\n"
          ]
        }
      ]
    },
    {
      "cell_type": "code",
      "source": [
        "df.drop(['contact'], axis = 1, inplace = True)"
      ],
      "metadata": {
        "id": "eeRCNNlhp982"
      },
      "execution_count": null,
      "outputs": []
    },
    {
      "cell_type": "code",
      "source": [
        "df"
      ],
      "metadata": {
        "id": "VFUCCpkCuqUZ",
        "colab": {
          "base_uri": "https://localhost:8080/",
          "height": 423
        },
        "outputId": "a5a8fc6e-33f6-4c68-92fc-3dfa12ef167a"
      },
      "execution_count": null,
      "outputs": [
        {
          "output_type": "execute_result",
          "data": {
            "text/plain": [
              "       age  job  marital  education  balance  housing  loan  day  month  \\\n",
              "0       59    0        1          1     2343        1     0    5      8   \n",
              "1       56    0        1          1       45        0     0    5      8   \n",
              "2       41    9        1          1     1270        1     0    5      8   \n",
              "3       55    7        1          1     2476        1     0    5      8   \n",
              "4       54    0        1          2      184        0     0    5      8   \n",
              "...    ...  ...      ...        ...      ...      ...   ...  ...    ...   \n",
              "11157   33    1        2          0        1        1     0   20      0   \n",
              "11158   39    7        1          1      733        0     0   16      6   \n",
              "11159   32    9        2          1       29        0     0   19      1   \n",
              "11160   43    9        1          1        0        0     1    8      8   \n",
              "11161   34    9        1          1        0        0     0    9      5   \n",
              "\n",
              "       duration  campaign  pdays  previous  poutcome  deposit  \n",
              "0          1042         1     -1         0         3        1  \n",
              "1          1467         1     -1         0         3        1  \n",
              "2          1389         1     -1         0         3        1  \n",
              "3           579         1     -1         0         3        1  \n",
              "4           673         2     -1         0         3        1  \n",
              "...         ...       ...    ...       ...       ...      ...  \n",
              "11157       257         1     -1         0         3        0  \n",
              "11158        83         4     -1         0         3        0  \n",
              "11159       156         2     -1         0         3        0  \n",
              "11160         9         2    172         5         0        0  \n",
              "11161       628         1     -1         0         3        0  \n",
              "\n",
              "[11162 rows x 15 columns]"
            ],
            "text/html": [
              "\n",
              "  <div id=\"df-025584f6-3b07-4a2d-94c5-4f653e7206cf\">\n",
              "    <div class=\"colab-df-container\">\n",
              "      <div>\n",
              "<style scoped>\n",
              "    .dataframe tbody tr th:only-of-type {\n",
              "        vertical-align: middle;\n",
              "    }\n",
              "\n",
              "    .dataframe tbody tr th {\n",
              "        vertical-align: top;\n",
              "    }\n",
              "\n",
              "    .dataframe thead th {\n",
              "        text-align: right;\n",
              "    }\n",
              "</style>\n",
              "<table border=\"1\" class=\"dataframe\">\n",
              "  <thead>\n",
              "    <tr style=\"text-align: right;\">\n",
              "      <th></th>\n",
              "      <th>age</th>\n",
              "      <th>job</th>\n",
              "      <th>marital</th>\n",
              "      <th>education</th>\n",
              "      <th>balance</th>\n",
              "      <th>housing</th>\n",
              "      <th>loan</th>\n",
              "      <th>day</th>\n",
              "      <th>month</th>\n",
              "      <th>duration</th>\n",
              "      <th>campaign</th>\n",
              "      <th>pdays</th>\n",
              "      <th>previous</th>\n",
              "      <th>poutcome</th>\n",
              "      <th>deposit</th>\n",
              "    </tr>\n",
              "  </thead>\n",
              "  <tbody>\n",
              "    <tr>\n",
              "      <th>0</th>\n",
              "      <td>59</td>\n",
              "      <td>0</td>\n",
              "      <td>1</td>\n",
              "      <td>1</td>\n",
              "      <td>2343</td>\n",
              "      <td>1</td>\n",
              "      <td>0</td>\n",
              "      <td>5</td>\n",
              "      <td>8</td>\n",
              "      <td>1042</td>\n",
              "      <td>1</td>\n",
              "      <td>-1</td>\n",
              "      <td>0</td>\n",
              "      <td>3</td>\n",
              "      <td>1</td>\n",
              "    </tr>\n",
              "    <tr>\n",
              "      <th>1</th>\n",
              "      <td>56</td>\n",
              "      <td>0</td>\n",
              "      <td>1</td>\n",
              "      <td>1</td>\n",
              "      <td>45</td>\n",
              "      <td>0</td>\n",
              "      <td>0</td>\n",
              "      <td>5</td>\n",
              "      <td>8</td>\n",
              "      <td>1467</td>\n",
              "      <td>1</td>\n",
              "      <td>-1</td>\n",
              "      <td>0</td>\n",
              "      <td>3</td>\n",
              "      <td>1</td>\n",
              "    </tr>\n",
              "    <tr>\n",
              "      <th>2</th>\n",
              "      <td>41</td>\n",
              "      <td>9</td>\n",
              "      <td>1</td>\n",
              "      <td>1</td>\n",
              "      <td>1270</td>\n",
              "      <td>1</td>\n",
              "      <td>0</td>\n",
              "      <td>5</td>\n",
              "      <td>8</td>\n",
              "      <td>1389</td>\n",
              "      <td>1</td>\n",
              "      <td>-1</td>\n",
              "      <td>0</td>\n",
              "      <td>3</td>\n",
              "      <td>1</td>\n",
              "    </tr>\n",
              "    <tr>\n",
              "      <th>3</th>\n",
              "      <td>55</td>\n",
              "      <td>7</td>\n",
              "      <td>1</td>\n",
              "      <td>1</td>\n",
              "      <td>2476</td>\n",
              "      <td>1</td>\n",
              "      <td>0</td>\n",
              "      <td>5</td>\n",
              "      <td>8</td>\n",
              "      <td>579</td>\n",
              "      <td>1</td>\n",
              "      <td>-1</td>\n",
              "      <td>0</td>\n",
              "      <td>3</td>\n",
              "      <td>1</td>\n",
              "    </tr>\n",
              "    <tr>\n",
              "      <th>4</th>\n",
              "      <td>54</td>\n",
              "      <td>0</td>\n",
              "      <td>1</td>\n",
              "      <td>2</td>\n",
              "      <td>184</td>\n",
              "      <td>0</td>\n",
              "      <td>0</td>\n",
              "      <td>5</td>\n",
              "      <td>8</td>\n",
              "      <td>673</td>\n",
              "      <td>2</td>\n",
              "      <td>-1</td>\n",
              "      <td>0</td>\n",
              "      <td>3</td>\n",
              "      <td>1</td>\n",
              "    </tr>\n",
              "    <tr>\n",
              "      <th>...</th>\n",
              "      <td>...</td>\n",
              "      <td>...</td>\n",
              "      <td>...</td>\n",
              "      <td>...</td>\n",
              "      <td>...</td>\n",
              "      <td>...</td>\n",
              "      <td>...</td>\n",
              "      <td>...</td>\n",
              "      <td>...</td>\n",
              "      <td>...</td>\n",
              "      <td>...</td>\n",
              "      <td>...</td>\n",
              "      <td>...</td>\n",
              "      <td>...</td>\n",
              "      <td>...</td>\n",
              "    </tr>\n",
              "    <tr>\n",
              "      <th>11157</th>\n",
              "      <td>33</td>\n",
              "      <td>1</td>\n",
              "      <td>2</td>\n",
              "      <td>0</td>\n",
              "      <td>1</td>\n",
              "      <td>1</td>\n",
              "      <td>0</td>\n",
              "      <td>20</td>\n",
              "      <td>0</td>\n",
              "      <td>257</td>\n",
              "      <td>1</td>\n",
              "      <td>-1</td>\n",
              "      <td>0</td>\n",
              "      <td>3</td>\n",
              "      <td>0</td>\n",
              "    </tr>\n",
              "    <tr>\n",
              "      <th>11158</th>\n",
              "      <td>39</td>\n",
              "      <td>7</td>\n",
              "      <td>1</td>\n",
              "      <td>1</td>\n",
              "      <td>733</td>\n",
              "      <td>0</td>\n",
              "      <td>0</td>\n",
              "      <td>16</td>\n",
              "      <td>6</td>\n",
              "      <td>83</td>\n",
              "      <td>4</td>\n",
              "      <td>-1</td>\n",
              "      <td>0</td>\n",
              "      <td>3</td>\n",
              "      <td>0</td>\n",
              "    </tr>\n",
              "    <tr>\n",
              "      <th>11159</th>\n",
              "      <td>32</td>\n",
              "      <td>9</td>\n",
              "      <td>2</td>\n",
              "      <td>1</td>\n",
              "      <td>29</td>\n",
              "      <td>0</td>\n",
              "      <td>0</td>\n",
              "      <td>19</td>\n",
              "      <td>1</td>\n",
              "      <td>156</td>\n",
              "      <td>2</td>\n",
              "      <td>-1</td>\n",
              "      <td>0</td>\n",
              "      <td>3</td>\n",
              "      <td>0</td>\n",
              "    </tr>\n",
              "    <tr>\n",
              "      <th>11160</th>\n",
              "      <td>43</td>\n",
              "      <td>9</td>\n",
              "      <td>1</td>\n",
              "      <td>1</td>\n",
              "      <td>0</td>\n",
              "      <td>0</td>\n",
              "      <td>1</td>\n",
              "      <td>8</td>\n",
              "      <td>8</td>\n",
              "      <td>9</td>\n",
              "      <td>2</td>\n",
              "      <td>172</td>\n",
              "      <td>5</td>\n",
              "      <td>0</td>\n",
              "      <td>0</td>\n",
              "    </tr>\n",
              "    <tr>\n",
              "      <th>11161</th>\n",
              "      <td>34</td>\n",
              "      <td>9</td>\n",
              "      <td>1</td>\n",
              "      <td>1</td>\n",
              "      <td>0</td>\n",
              "      <td>0</td>\n",
              "      <td>0</td>\n",
              "      <td>9</td>\n",
              "      <td>5</td>\n",
              "      <td>628</td>\n",
              "      <td>1</td>\n",
              "      <td>-1</td>\n",
              "      <td>0</td>\n",
              "      <td>3</td>\n",
              "      <td>0</td>\n",
              "    </tr>\n",
              "  </tbody>\n",
              "</table>\n",
              "<p>11162 rows × 15 columns</p>\n",
              "</div>\n",
              "      <button class=\"colab-df-convert\" onclick=\"convertToInteractive('df-025584f6-3b07-4a2d-94c5-4f653e7206cf')\"\n",
              "              title=\"Convert this dataframe to an interactive table.\"\n",
              "              style=\"display:none;\">\n",
              "        \n",
              "  <svg xmlns=\"http://www.w3.org/2000/svg\" height=\"24px\"viewBox=\"0 0 24 24\"\n",
              "       width=\"24px\">\n",
              "    <path d=\"M0 0h24v24H0V0z\" fill=\"none\"/>\n",
              "    <path d=\"M18.56 5.44l.94 2.06.94-2.06 2.06-.94-2.06-.94-.94-2.06-.94 2.06-2.06.94zm-11 1L8.5 8.5l.94-2.06 2.06-.94-2.06-.94L8.5 2.5l-.94 2.06-2.06.94zm10 10l.94 2.06.94-2.06 2.06-.94-2.06-.94-.94-2.06-.94 2.06-2.06.94z\"/><path d=\"M17.41 7.96l-1.37-1.37c-.4-.4-.92-.59-1.43-.59-.52 0-1.04.2-1.43.59L10.3 9.45l-7.72 7.72c-.78.78-.78 2.05 0 2.83L4 21.41c.39.39.9.59 1.41.59.51 0 1.02-.2 1.41-.59l7.78-7.78 2.81-2.81c.8-.78.8-2.07 0-2.86zM5.41 20L4 18.59l7.72-7.72 1.47 1.35L5.41 20z\"/>\n",
              "  </svg>\n",
              "      </button>\n",
              "      \n",
              "  <style>\n",
              "    .colab-df-container {\n",
              "      display:flex;\n",
              "      flex-wrap:wrap;\n",
              "      gap: 12px;\n",
              "    }\n",
              "\n",
              "    .colab-df-convert {\n",
              "      background-color: #E8F0FE;\n",
              "      border: none;\n",
              "      border-radius: 50%;\n",
              "      cursor: pointer;\n",
              "      display: none;\n",
              "      fill: #1967D2;\n",
              "      height: 32px;\n",
              "      padding: 0 0 0 0;\n",
              "      width: 32px;\n",
              "    }\n",
              "\n",
              "    .colab-df-convert:hover {\n",
              "      background-color: #E2EBFA;\n",
              "      box-shadow: 0px 1px 2px rgba(60, 64, 67, 0.3), 0px 1px 3px 1px rgba(60, 64, 67, 0.15);\n",
              "      fill: #174EA6;\n",
              "    }\n",
              "\n",
              "    [theme=dark] .colab-df-convert {\n",
              "      background-color: #3B4455;\n",
              "      fill: #D2E3FC;\n",
              "    }\n",
              "\n",
              "    [theme=dark] .colab-df-convert:hover {\n",
              "      background-color: #434B5C;\n",
              "      box-shadow: 0px 1px 3px 1px rgba(0, 0, 0, 0.15);\n",
              "      filter: drop-shadow(0px 1px 2px rgba(0, 0, 0, 0.3));\n",
              "      fill: #FFFFFF;\n",
              "    }\n",
              "  </style>\n",
              "\n",
              "      <script>\n",
              "        const buttonEl =\n",
              "          document.querySelector('#df-025584f6-3b07-4a2d-94c5-4f653e7206cf button.colab-df-convert');\n",
              "        buttonEl.style.display =\n",
              "          google.colab.kernel.accessAllowed ? 'block' : 'none';\n",
              "\n",
              "        async function convertToInteractive(key) {\n",
              "          const element = document.querySelector('#df-025584f6-3b07-4a2d-94c5-4f653e7206cf');\n",
              "          const dataTable =\n",
              "            await google.colab.kernel.invokeFunction('convertToInteractive',\n",
              "                                                     [key], {});\n",
              "          if (!dataTable) return;\n",
              "\n",
              "          const docLinkHtml = 'Like what you see? Visit the ' +\n",
              "            '<a target=\"_blank\" href=https://colab.research.google.com/notebooks/data_table.ipynb>data table notebook</a>'\n",
              "            + ' to learn more about interactive tables.';\n",
              "          element.innerHTML = '';\n",
              "          dataTable['output_type'] = 'display_data';\n",
              "          await google.colab.output.renderOutput(dataTable, element);\n",
              "          const docLink = document.createElement('div');\n",
              "          docLink.innerHTML = docLinkHtml;\n",
              "          element.appendChild(docLink);\n",
              "        }\n",
              "      </script>\n",
              "    </div>\n",
              "  </div>\n",
              "  "
            ]
          },
          "metadata": {},
          "execution_count": 111
        }
      ]
    },
    {
      "cell_type": "code",
      "execution_count": null,
      "metadata": {
        "id": "CbHmPHZ-Fwos"
      },
      "outputs": [],
      "source": [
        "X = df.drop('deposit',axis = 1)"
      ]
    },
    {
      "cell_type": "code",
      "execution_count": null,
      "metadata": {
        "id": "lt3Y2mWnF10x",
        "colab": {
          "base_uri": "https://localhost:8080/",
          "height": 423
        },
        "outputId": "aa86812f-e08a-43eb-8019-0f2f021dde01"
      },
      "outputs": [
        {
          "output_type": "execute_result",
          "data": {
            "text/plain": [
              "       age  job  marital  education  balance  housing  loan  day  month  \\\n",
              "0       59    0        1          1     2343        1     0    5      8   \n",
              "1       56    0        1          1       45        0     0    5      8   \n",
              "2       41    9        1          1     1270        1     0    5      8   \n",
              "3       55    7        1          1     2476        1     0    5      8   \n",
              "4       54    0        1          2      184        0     0    5      8   \n",
              "...    ...  ...      ...        ...      ...      ...   ...  ...    ...   \n",
              "11157   33    1        2          0        1        1     0   20      0   \n",
              "11158   39    7        1          1      733        0     0   16      6   \n",
              "11159   32    9        2          1       29        0     0   19      1   \n",
              "11160   43    9        1          1        0        0     1    8      8   \n",
              "11161   34    9        1          1        0        0     0    9      5   \n",
              "\n",
              "       duration  campaign  pdays  previous  poutcome  \n",
              "0          1042         1     -1         0         3  \n",
              "1          1467         1     -1         0         3  \n",
              "2          1389         1     -1         0         3  \n",
              "3           579         1     -1         0         3  \n",
              "4           673         2     -1         0         3  \n",
              "...         ...       ...    ...       ...       ...  \n",
              "11157       257         1     -1         0         3  \n",
              "11158        83         4     -1         0         3  \n",
              "11159       156         2     -1         0         3  \n",
              "11160         9         2    172         5         0  \n",
              "11161       628         1     -1         0         3  \n",
              "\n",
              "[11162 rows x 14 columns]"
            ],
            "text/html": [
              "\n",
              "  <div id=\"df-a71662f1-b9d4-4cb4-a4fa-e7bf7d3e4975\">\n",
              "    <div class=\"colab-df-container\">\n",
              "      <div>\n",
              "<style scoped>\n",
              "    .dataframe tbody tr th:only-of-type {\n",
              "        vertical-align: middle;\n",
              "    }\n",
              "\n",
              "    .dataframe tbody tr th {\n",
              "        vertical-align: top;\n",
              "    }\n",
              "\n",
              "    .dataframe thead th {\n",
              "        text-align: right;\n",
              "    }\n",
              "</style>\n",
              "<table border=\"1\" class=\"dataframe\">\n",
              "  <thead>\n",
              "    <tr style=\"text-align: right;\">\n",
              "      <th></th>\n",
              "      <th>age</th>\n",
              "      <th>job</th>\n",
              "      <th>marital</th>\n",
              "      <th>education</th>\n",
              "      <th>balance</th>\n",
              "      <th>housing</th>\n",
              "      <th>loan</th>\n",
              "      <th>day</th>\n",
              "      <th>month</th>\n",
              "      <th>duration</th>\n",
              "      <th>campaign</th>\n",
              "      <th>pdays</th>\n",
              "      <th>previous</th>\n",
              "      <th>poutcome</th>\n",
              "    </tr>\n",
              "  </thead>\n",
              "  <tbody>\n",
              "    <tr>\n",
              "      <th>0</th>\n",
              "      <td>59</td>\n",
              "      <td>0</td>\n",
              "      <td>1</td>\n",
              "      <td>1</td>\n",
              "      <td>2343</td>\n",
              "      <td>1</td>\n",
              "      <td>0</td>\n",
              "      <td>5</td>\n",
              "      <td>8</td>\n",
              "      <td>1042</td>\n",
              "      <td>1</td>\n",
              "      <td>-1</td>\n",
              "      <td>0</td>\n",
              "      <td>3</td>\n",
              "    </tr>\n",
              "    <tr>\n",
              "      <th>1</th>\n",
              "      <td>56</td>\n",
              "      <td>0</td>\n",
              "      <td>1</td>\n",
              "      <td>1</td>\n",
              "      <td>45</td>\n",
              "      <td>0</td>\n",
              "      <td>0</td>\n",
              "      <td>5</td>\n",
              "      <td>8</td>\n",
              "      <td>1467</td>\n",
              "      <td>1</td>\n",
              "      <td>-1</td>\n",
              "      <td>0</td>\n",
              "      <td>3</td>\n",
              "    </tr>\n",
              "    <tr>\n",
              "      <th>2</th>\n",
              "      <td>41</td>\n",
              "      <td>9</td>\n",
              "      <td>1</td>\n",
              "      <td>1</td>\n",
              "      <td>1270</td>\n",
              "      <td>1</td>\n",
              "      <td>0</td>\n",
              "      <td>5</td>\n",
              "      <td>8</td>\n",
              "      <td>1389</td>\n",
              "      <td>1</td>\n",
              "      <td>-1</td>\n",
              "      <td>0</td>\n",
              "      <td>3</td>\n",
              "    </tr>\n",
              "    <tr>\n",
              "      <th>3</th>\n",
              "      <td>55</td>\n",
              "      <td>7</td>\n",
              "      <td>1</td>\n",
              "      <td>1</td>\n",
              "      <td>2476</td>\n",
              "      <td>1</td>\n",
              "      <td>0</td>\n",
              "      <td>5</td>\n",
              "      <td>8</td>\n",
              "      <td>579</td>\n",
              "      <td>1</td>\n",
              "      <td>-1</td>\n",
              "      <td>0</td>\n",
              "      <td>3</td>\n",
              "    </tr>\n",
              "    <tr>\n",
              "      <th>4</th>\n",
              "      <td>54</td>\n",
              "      <td>0</td>\n",
              "      <td>1</td>\n",
              "      <td>2</td>\n",
              "      <td>184</td>\n",
              "      <td>0</td>\n",
              "      <td>0</td>\n",
              "      <td>5</td>\n",
              "      <td>8</td>\n",
              "      <td>673</td>\n",
              "      <td>2</td>\n",
              "      <td>-1</td>\n",
              "      <td>0</td>\n",
              "      <td>3</td>\n",
              "    </tr>\n",
              "    <tr>\n",
              "      <th>...</th>\n",
              "      <td>...</td>\n",
              "      <td>...</td>\n",
              "      <td>...</td>\n",
              "      <td>...</td>\n",
              "      <td>...</td>\n",
              "      <td>...</td>\n",
              "      <td>...</td>\n",
              "      <td>...</td>\n",
              "      <td>...</td>\n",
              "      <td>...</td>\n",
              "      <td>...</td>\n",
              "      <td>...</td>\n",
              "      <td>...</td>\n",
              "      <td>...</td>\n",
              "    </tr>\n",
              "    <tr>\n",
              "      <th>11157</th>\n",
              "      <td>33</td>\n",
              "      <td>1</td>\n",
              "      <td>2</td>\n",
              "      <td>0</td>\n",
              "      <td>1</td>\n",
              "      <td>1</td>\n",
              "      <td>0</td>\n",
              "      <td>20</td>\n",
              "      <td>0</td>\n",
              "      <td>257</td>\n",
              "      <td>1</td>\n",
              "      <td>-1</td>\n",
              "      <td>0</td>\n",
              "      <td>3</td>\n",
              "    </tr>\n",
              "    <tr>\n",
              "      <th>11158</th>\n",
              "      <td>39</td>\n",
              "      <td>7</td>\n",
              "      <td>1</td>\n",
              "      <td>1</td>\n",
              "      <td>733</td>\n",
              "      <td>0</td>\n",
              "      <td>0</td>\n",
              "      <td>16</td>\n",
              "      <td>6</td>\n",
              "      <td>83</td>\n",
              "      <td>4</td>\n",
              "      <td>-1</td>\n",
              "      <td>0</td>\n",
              "      <td>3</td>\n",
              "    </tr>\n",
              "    <tr>\n",
              "      <th>11159</th>\n",
              "      <td>32</td>\n",
              "      <td>9</td>\n",
              "      <td>2</td>\n",
              "      <td>1</td>\n",
              "      <td>29</td>\n",
              "      <td>0</td>\n",
              "      <td>0</td>\n",
              "      <td>19</td>\n",
              "      <td>1</td>\n",
              "      <td>156</td>\n",
              "      <td>2</td>\n",
              "      <td>-1</td>\n",
              "      <td>0</td>\n",
              "      <td>3</td>\n",
              "    </tr>\n",
              "    <tr>\n",
              "      <th>11160</th>\n",
              "      <td>43</td>\n",
              "      <td>9</td>\n",
              "      <td>1</td>\n",
              "      <td>1</td>\n",
              "      <td>0</td>\n",
              "      <td>0</td>\n",
              "      <td>1</td>\n",
              "      <td>8</td>\n",
              "      <td>8</td>\n",
              "      <td>9</td>\n",
              "      <td>2</td>\n",
              "      <td>172</td>\n",
              "      <td>5</td>\n",
              "      <td>0</td>\n",
              "    </tr>\n",
              "    <tr>\n",
              "      <th>11161</th>\n",
              "      <td>34</td>\n",
              "      <td>9</td>\n",
              "      <td>1</td>\n",
              "      <td>1</td>\n",
              "      <td>0</td>\n",
              "      <td>0</td>\n",
              "      <td>0</td>\n",
              "      <td>9</td>\n",
              "      <td>5</td>\n",
              "      <td>628</td>\n",
              "      <td>1</td>\n",
              "      <td>-1</td>\n",
              "      <td>0</td>\n",
              "      <td>3</td>\n",
              "    </tr>\n",
              "  </tbody>\n",
              "</table>\n",
              "<p>11162 rows × 14 columns</p>\n",
              "</div>\n",
              "      <button class=\"colab-df-convert\" onclick=\"convertToInteractive('df-a71662f1-b9d4-4cb4-a4fa-e7bf7d3e4975')\"\n",
              "              title=\"Convert this dataframe to an interactive table.\"\n",
              "              style=\"display:none;\">\n",
              "        \n",
              "  <svg xmlns=\"http://www.w3.org/2000/svg\" height=\"24px\"viewBox=\"0 0 24 24\"\n",
              "       width=\"24px\">\n",
              "    <path d=\"M0 0h24v24H0V0z\" fill=\"none\"/>\n",
              "    <path d=\"M18.56 5.44l.94 2.06.94-2.06 2.06-.94-2.06-.94-.94-2.06-.94 2.06-2.06.94zm-11 1L8.5 8.5l.94-2.06 2.06-.94-2.06-.94L8.5 2.5l-.94 2.06-2.06.94zm10 10l.94 2.06.94-2.06 2.06-.94-2.06-.94-.94-2.06-.94 2.06-2.06.94z\"/><path d=\"M17.41 7.96l-1.37-1.37c-.4-.4-.92-.59-1.43-.59-.52 0-1.04.2-1.43.59L10.3 9.45l-7.72 7.72c-.78.78-.78 2.05 0 2.83L4 21.41c.39.39.9.59 1.41.59.51 0 1.02-.2 1.41-.59l7.78-7.78 2.81-2.81c.8-.78.8-2.07 0-2.86zM5.41 20L4 18.59l7.72-7.72 1.47 1.35L5.41 20z\"/>\n",
              "  </svg>\n",
              "      </button>\n",
              "      \n",
              "  <style>\n",
              "    .colab-df-container {\n",
              "      display:flex;\n",
              "      flex-wrap:wrap;\n",
              "      gap: 12px;\n",
              "    }\n",
              "\n",
              "    .colab-df-convert {\n",
              "      background-color: #E8F0FE;\n",
              "      border: none;\n",
              "      border-radius: 50%;\n",
              "      cursor: pointer;\n",
              "      display: none;\n",
              "      fill: #1967D2;\n",
              "      height: 32px;\n",
              "      padding: 0 0 0 0;\n",
              "      width: 32px;\n",
              "    }\n",
              "\n",
              "    .colab-df-convert:hover {\n",
              "      background-color: #E2EBFA;\n",
              "      box-shadow: 0px 1px 2px rgba(60, 64, 67, 0.3), 0px 1px 3px 1px rgba(60, 64, 67, 0.15);\n",
              "      fill: #174EA6;\n",
              "    }\n",
              "\n",
              "    [theme=dark] .colab-df-convert {\n",
              "      background-color: #3B4455;\n",
              "      fill: #D2E3FC;\n",
              "    }\n",
              "\n",
              "    [theme=dark] .colab-df-convert:hover {\n",
              "      background-color: #434B5C;\n",
              "      box-shadow: 0px 1px 3px 1px rgba(0, 0, 0, 0.15);\n",
              "      filter: drop-shadow(0px 1px 2px rgba(0, 0, 0, 0.3));\n",
              "      fill: #FFFFFF;\n",
              "    }\n",
              "  </style>\n",
              "\n",
              "      <script>\n",
              "        const buttonEl =\n",
              "          document.querySelector('#df-a71662f1-b9d4-4cb4-a4fa-e7bf7d3e4975 button.colab-df-convert');\n",
              "        buttonEl.style.display =\n",
              "          google.colab.kernel.accessAllowed ? 'block' : 'none';\n",
              "\n",
              "        async function convertToInteractive(key) {\n",
              "          const element = document.querySelector('#df-a71662f1-b9d4-4cb4-a4fa-e7bf7d3e4975');\n",
              "          const dataTable =\n",
              "            await google.colab.kernel.invokeFunction('convertToInteractive',\n",
              "                                                     [key], {});\n",
              "          if (!dataTable) return;\n",
              "\n",
              "          const docLinkHtml = 'Like what you see? Visit the ' +\n",
              "            '<a target=\"_blank\" href=https://colab.research.google.com/notebooks/data_table.ipynb>data table notebook</a>'\n",
              "            + ' to learn more about interactive tables.';\n",
              "          element.innerHTML = '';\n",
              "          dataTable['output_type'] = 'display_data';\n",
              "          await google.colab.output.renderOutput(dataTable, element);\n",
              "          const docLink = document.createElement('div');\n",
              "          docLink.innerHTML = docLinkHtml;\n",
              "          element.appendChild(docLink);\n",
              "        }\n",
              "      </script>\n",
              "    </div>\n",
              "  </div>\n",
              "  "
            ]
          },
          "metadata": {},
          "execution_count": 113
        }
      ],
      "source": [
        "X"
      ]
    },
    {
      "cell_type": "code",
      "execution_count": null,
      "metadata": {
        "id": "uJUjfilpF_cl"
      },
      "outputs": [],
      "source": [
        "Y = df.deposit"
      ]
    },
    {
      "cell_type": "code",
      "execution_count": null,
      "metadata": {
        "id": "V_Lc0Q4HGYn_",
        "colab": {
          "base_uri": "https://localhost:8080/"
        },
        "outputId": "bd21ff34-5138-483f-afd4-68bab681f2aa"
      },
      "outputs": [
        {
          "output_type": "execute_result",
          "data": {
            "text/plain": [
              "0        1\n",
              "1        1\n",
              "2        1\n",
              "3        1\n",
              "4        1\n",
              "        ..\n",
              "11157    0\n",
              "11158    0\n",
              "11159    0\n",
              "11160    0\n",
              "11161    0\n",
              "Name: deposit, Length: 11162, dtype: int64"
            ]
          },
          "metadata": {},
          "execution_count": 115
        }
      ],
      "source": [
        "Y"
      ]
    },
    {
      "cell_type": "code",
      "execution_count": null,
      "metadata": {
        "id": "F46uHDylGaEX"
      },
      "outputs": [],
      "source": [
        "X_train, X_test, Y_train, Y_test = train_test_split( X, Y, test_size=0.2, random_state = 42)"
      ]
    },
    {
      "cell_type": "code",
      "execution_count": null,
      "metadata": {
        "id": "ZiPgApfaHCOP",
        "colab": {
          "base_uri": "https://localhost:8080/"
        },
        "outputId": "6e1fe13c-ffb7-4276-8831-d2f21c0a8107"
      },
      "outputs": [
        {
          "output_type": "execute_result",
          "data": {
            "text/plain": [
              "(8929, 14)"
            ]
          },
          "metadata": {},
          "execution_count": 117
        }
      ],
      "source": [
        "X_train.shape"
      ]
    },
    {
      "cell_type": "code",
      "execution_count": null,
      "metadata": {
        "id": "-Y2Xi0b9HLqD",
        "colab": {
          "base_uri": "https://localhost:8080/"
        },
        "outputId": "baedac5b-8583-4180-9d37-e1dc899c088a"
      },
      "outputs": [
        {
          "output_type": "execute_result",
          "data": {
            "text/plain": [
              "(2233, 14)"
            ]
          },
          "metadata": {},
          "execution_count": 118
        }
      ],
      "source": [
        "X_test.shape"
      ]
    },
    {
      "cell_type": "code",
      "execution_count": null,
      "metadata": {
        "id": "YarmwP8fGx0T",
        "colab": {
          "base_uri": "https://localhost:8080/",
          "height": 423
        },
        "outputId": "75be063f-28f7-400d-a754-d58711173322"
      },
      "outputs": [
        {
          "output_type": "execute_result",
          "data": {
            "text/plain": [
              "       age  job  marital  education  balance  housing  loan  day  month  \\\n",
              "3955    28    8        2          2     5741        0     0   10     11   \n",
              "11150   34    4        1          1      355        0     0   21      1   \n",
              "5173    48   10        0          1      201        0     0   10      9   \n",
              "3017    53    2        1          2     1961        0     0   15      2   \n",
              "2910    53    4        1          2     1624        0     0   11      9   \n",
              "...    ...  ...      ...        ...      ...      ...   ...  ...    ...   \n",
              "5734    47    4        1          2      761        1     0   11      5   \n",
              "5191    28    6        2          2      159        0     0   16      9   \n",
              "5390    35    9        1          1     1144        0     0   20      1   \n",
              "860     51    5        1          2      746        0     0   25      1   \n",
              "7270    30    4        2          2        2        0     0   23      7   \n",
              "\n",
              "       duration  campaign  pdays  previous  poutcome  \n",
              "3955       1042         5    200         3         0  \n",
              "11150       314         3     -1         0         3  \n",
              "5173        594         1     91         1         2  \n",
              "3017        351         1     -1         0         3  \n",
              "2910        166         3     97         7         2  \n",
              "...         ...       ...    ...       ...       ...  \n",
              "5734         80         2     -1         0         3  \n",
              "5191        449         2     33         4         2  \n",
              "5390        197        13     -1         0         3  \n",
              "860         372         5     -1         0         3  \n",
              "7270        269         1     -1         0         3  \n",
              "\n",
              "[8929 rows x 14 columns]"
            ],
            "text/html": [
              "\n",
              "  <div id=\"df-8b9508b7-3ad7-438c-ab13-915ea1f2c2c2\">\n",
              "    <div class=\"colab-df-container\">\n",
              "      <div>\n",
              "<style scoped>\n",
              "    .dataframe tbody tr th:only-of-type {\n",
              "        vertical-align: middle;\n",
              "    }\n",
              "\n",
              "    .dataframe tbody tr th {\n",
              "        vertical-align: top;\n",
              "    }\n",
              "\n",
              "    .dataframe thead th {\n",
              "        text-align: right;\n",
              "    }\n",
              "</style>\n",
              "<table border=\"1\" class=\"dataframe\">\n",
              "  <thead>\n",
              "    <tr style=\"text-align: right;\">\n",
              "      <th></th>\n",
              "      <th>age</th>\n",
              "      <th>job</th>\n",
              "      <th>marital</th>\n",
              "      <th>education</th>\n",
              "      <th>balance</th>\n",
              "      <th>housing</th>\n",
              "      <th>loan</th>\n",
              "      <th>day</th>\n",
              "      <th>month</th>\n",
              "      <th>duration</th>\n",
              "      <th>campaign</th>\n",
              "      <th>pdays</th>\n",
              "      <th>previous</th>\n",
              "      <th>poutcome</th>\n",
              "    </tr>\n",
              "  </thead>\n",
              "  <tbody>\n",
              "    <tr>\n",
              "      <th>3955</th>\n",
              "      <td>28</td>\n",
              "      <td>8</td>\n",
              "      <td>2</td>\n",
              "      <td>2</td>\n",
              "      <td>5741</td>\n",
              "      <td>0</td>\n",
              "      <td>0</td>\n",
              "      <td>10</td>\n",
              "      <td>11</td>\n",
              "      <td>1042</td>\n",
              "      <td>5</td>\n",
              "      <td>200</td>\n",
              "      <td>3</td>\n",
              "      <td>0</td>\n",
              "    </tr>\n",
              "    <tr>\n",
              "      <th>11150</th>\n",
              "      <td>34</td>\n",
              "      <td>4</td>\n",
              "      <td>1</td>\n",
              "      <td>1</td>\n",
              "      <td>355</td>\n",
              "      <td>0</td>\n",
              "      <td>0</td>\n",
              "      <td>21</td>\n",
              "      <td>1</td>\n",
              "      <td>314</td>\n",
              "      <td>3</td>\n",
              "      <td>-1</td>\n",
              "      <td>0</td>\n",
              "      <td>3</td>\n",
              "    </tr>\n",
              "    <tr>\n",
              "      <th>5173</th>\n",
              "      <td>48</td>\n",
              "      <td>10</td>\n",
              "      <td>0</td>\n",
              "      <td>1</td>\n",
              "      <td>201</td>\n",
              "      <td>0</td>\n",
              "      <td>0</td>\n",
              "      <td>10</td>\n",
              "      <td>9</td>\n",
              "      <td>594</td>\n",
              "      <td>1</td>\n",
              "      <td>91</td>\n",
              "      <td>1</td>\n",
              "      <td>2</td>\n",
              "    </tr>\n",
              "    <tr>\n",
              "      <th>3017</th>\n",
              "      <td>53</td>\n",
              "      <td>2</td>\n",
              "      <td>1</td>\n",
              "      <td>2</td>\n",
              "      <td>1961</td>\n",
              "      <td>0</td>\n",
              "      <td>0</td>\n",
              "      <td>15</td>\n",
              "      <td>2</td>\n",
              "      <td>351</td>\n",
              "      <td>1</td>\n",
              "      <td>-1</td>\n",
              "      <td>0</td>\n",
              "      <td>3</td>\n",
              "    </tr>\n",
              "    <tr>\n",
              "      <th>2910</th>\n",
              "      <td>53</td>\n",
              "      <td>4</td>\n",
              "      <td>1</td>\n",
              "      <td>2</td>\n",
              "      <td>1624</td>\n",
              "      <td>0</td>\n",
              "      <td>0</td>\n",
              "      <td>11</td>\n",
              "      <td>9</td>\n",
              "      <td>166</td>\n",
              "      <td>3</td>\n",
              "      <td>97</td>\n",
              "      <td>7</td>\n",
              "      <td>2</td>\n",
              "    </tr>\n",
              "    <tr>\n",
              "      <th>...</th>\n",
              "      <td>...</td>\n",
              "      <td>...</td>\n",
              "      <td>...</td>\n",
              "      <td>...</td>\n",
              "      <td>...</td>\n",
              "      <td>...</td>\n",
              "      <td>...</td>\n",
              "      <td>...</td>\n",
              "      <td>...</td>\n",
              "      <td>...</td>\n",
              "      <td>...</td>\n",
              "      <td>...</td>\n",
              "      <td>...</td>\n",
              "      <td>...</td>\n",
              "    </tr>\n",
              "    <tr>\n",
              "      <th>5734</th>\n",
              "      <td>47</td>\n",
              "      <td>4</td>\n",
              "      <td>1</td>\n",
              "      <td>2</td>\n",
              "      <td>761</td>\n",
              "      <td>1</td>\n",
              "      <td>0</td>\n",
              "      <td>11</td>\n",
              "      <td>5</td>\n",
              "      <td>80</td>\n",
              "      <td>2</td>\n",
              "      <td>-1</td>\n",
              "      <td>0</td>\n",
              "      <td>3</td>\n",
              "    </tr>\n",
              "    <tr>\n",
              "      <th>5191</th>\n",
              "      <td>28</td>\n",
              "      <td>6</td>\n",
              "      <td>2</td>\n",
              "      <td>2</td>\n",
              "      <td>159</td>\n",
              "      <td>0</td>\n",
              "      <td>0</td>\n",
              "      <td>16</td>\n",
              "      <td>9</td>\n",
              "      <td>449</td>\n",
              "      <td>2</td>\n",
              "      <td>33</td>\n",
              "      <td>4</td>\n",
              "      <td>2</td>\n",
              "    </tr>\n",
              "    <tr>\n",
              "      <th>5390</th>\n",
              "      <td>35</td>\n",
              "      <td>9</td>\n",
              "      <td>1</td>\n",
              "      <td>1</td>\n",
              "      <td>1144</td>\n",
              "      <td>0</td>\n",
              "      <td>0</td>\n",
              "      <td>20</td>\n",
              "      <td>1</td>\n",
              "      <td>197</td>\n",
              "      <td>13</td>\n",
              "      <td>-1</td>\n",
              "      <td>0</td>\n",
              "      <td>3</td>\n",
              "    </tr>\n",
              "    <tr>\n",
              "      <th>860</th>\n",
              "      <td>51</td>\n",
              "      <td>5</td>\n",
              "      <td>1</td>\n",
              "      <td>2</td>\n",
              "      <td>746</td>\n",
              "      <td>0</td>\n",
              "      <td>0</td>\n",
              "      <td>25</td>\n",
              "      <td>1</td>\n",
              "      <td>372</td>\n",
              "      <td>5</td>\n",
              "      <td>-1</td>\n",
              "      <td>0</td>\n",
              "      <td>3</td>\n",
              "    </tr>\n",
              "    <tr>\n",
              "      <th>7270</th>\n",
              "      <td>30</td>\n",
              "      <td>4</td>\n",
              "      <td>2</td>\n",
              "      <td>2</td>\n",
              "      <td>2</td>\n",
              "      <td>0</td>\n",
              "      <td>0</td>\n",
              "      <td>23</td>\n",
              "      <td>7</td>\n",
              "      <td>269</td>\n",
              "      <td>1</td>\n",
              "      <td>-1</td>\n",
              "      <td>0</td>\n",
              "      <td>3</td>\n",
              "    </tr>\n",
              "  </tbody>\n",
              "</table>\n",
              "<p>8929 rows × 14 columns</p>\n",
              "</div>\n",
              "      <button class=\"colab-df-convert\" onclick=\"convertToInteractive('df-8b9508b7-3ad7-438c-ab13-915ea1f2c2c2')\"\n",
              "              title=\"Convert this dataframe to an interactive table.\"\n",
              "              style=\"display:none;\">\n",
              "        \n",
              "  <svg xmlns=\"http://www.w3.org/2000/svg\" height=\"24px\"viewBox=\"0 0 24 24\"\n",
              "       width=\"24px\">\n",
              "    <path d=\"M0 0h24v24H0V0z\" fill=\"none\"/>\n",
              "    <path d=\"M18.56 5.44l.94 2.06.94-2.06 2.06-.94-2.06-.94-.94-2.06-.94 2.06-2.06.94zm-11 1L8.5 8.5l.94-2.06 2.06-.94-2.06-.94L8.5 2.5l-.94 2.06-2.06.94zm10 10l.94 2.06.94-2.06 2.06-.94-2.06-.94-.94-2.06-.94 2.06-2.06.94z\"/><path d=\"M17.41 7.96l-1.37-1.37c-.4-.4-.92-.59-1.43-.59-.52 0-1.04.2-1.43.59L10.3 9.45l-7.72 7.72c-.78.78-.78 2.05 0 2.83L4 21.41c.39.39.9.59 1.41.59.51 0 1.02-.2 1.41-.59l7.78-7.78 2.81-2.81c.8-.78.8-2.07 0-2.86zM5.41 20L4 18.59l7.72-7.72 1.47 1.35L5.41 20z\"/>\n",
              "  </svg>\n",
              "      </button>\n",
              "      \n",
              "  <style>\n",
              "    .colab-df-container {\n",
              "      display:flex;\n",
              "      flex-wrap:wrap;\n",
              "      gap: 12px;\n",
              "    }\n",
              "\n",
              "    .colab-df-convert {\n",
              "      background-color: #E8F0FE;\n",
              "      border: none;\n",
              "      border-radius: 50%;\n",
              "      cursor: pointer;\n",
              "      display: none;\n",
              "      fill: #1967D2;\n",
              "      height: 32px;\n",
              "      padding: 0 0 0 0;\n",
              "      width: 32px;\n",
              "    }\n",
              "\n",
              "    .colab-df-convert:hover {\n",
              "      background-color: #E2EBFA;\n",
              "      box-shadow: 0px 1px 2px rgba(60, 64, 67, 0.3), 0px 1px 3px 1px rgba(60, 64, 67, 0.15);\n",
              "      fill: #174EA6;\n",
              "    }\n",
              "\n",
              "    [theme=dark] .colab-df-convert {\n",
              "      background-color: #3B4455;\n",
              "      fill: #D2E3FC;\n",
              "    }\n",
              "\n",
              "    [theme=dark] .colab-df-convert:hover {\n",
              "      background-color: #434B5C;\n",
              "      box-shadow: 0px 1px 3px 1px rgba(0, 0, 0, 0.15);\n",
              "      filter: drop-shadow(0px 1px 2px rgba(0, 0, 0, 0.3));\n",
              "      fill: #FFFFFF;\n",
              "    }\n",
              "  </style>\n",
              "\n",
              "      <script>\n",
              "        const buttonEl =\n",
              "          document.querySelector('#df-8b9508b7-3ad7-438c-ab13-915ea1f2c2c2 button.colab-df-convert');\n",
              "        buttonEl.style.display =\n",
              "          google.colab.kernel.accessAllowed ? 'block' : 'none';\n",
              "\n",
              "        async function convertToInteractive(key) {\n",
              "          const element = document.querySelector('#df-8b9508b7-3ad7-438c-ab13-915ea1f2c2c2');\n",
              "          const dataTable =\n",
              "            await google.colab.kernel.invokeFunction('convertToInteractive',\n",
              "                                                     [key], {});\n",
              "          if (!dataTable) return;\n",
              "\n",
              "          const docLinkHtml = 'Like what you see? Visit the ' +\n",
              "            '<a target=\"_blank\" href=https://colab.research.google.com/notebooks/data_table.ipynb>data table notebook</a>'\n",
              "            + ' to learn more about interactive tables.';\n",
              "          element.innerHTML = '';\n",
              "          dataTable['output_type'] = 'display_data';\n",
              "          await google.colab.output.renderOutput(dataTable, element);\n",
              "          const docLink = document.createElement('div');\n",
              "          docLink.innerHTML = docLinkHtml;\n",
              "          element.appendChild(docLink);\n",
              "        }\n",
              "      </script>\n",
              "    </div>\n",
              "  </div>\n",
              "  "
            ]
          },
          "metadata": {},
          "execution_count": 119
        }
      ],
      "source": [
        "X_train"
      ]
    },
    {
      "cell_type": "code",
      "execution_count": null,
      "metadata": {
        "id": "FMvmJ3qNG6Yl",
        "colab": {
          "base_uri": "https://localhost:8080/",
          "height": 423
        },
        "outputId": "949f385c-fa63-4959-9484-c02c1dbf4f20"
      },
      "outputs": [
        {
          "output_type": "execute_result",
          "data": {
            "text/plain": [
              "       age  job  marital  education  balance  housing  loan  day  month  \\\n",
              "5527    65    5        0          1      744        0     0    5      5   \n",
              "4541    38    1        1          1     1627        0     0   16      6   \n",
              "1964    35    1        2          1     4963        1     0   14      8   \n",
              "5007    47    1        1          1     8229        0     0    8      1   \n",
              "8928    35    9        1          2     1473        1     0   12      8   \n",
              "...    ...  ...      ...        ...      ...      ...   ...  ...    ...   \n",
              "376     46   10        1          1      926        0     0    7      5   \n",
              "5544    49    9        1          0      230        1     0    8      8   \n",
              "10749   53    9        1          2      431        1     0    5      8   \n",
              "3881    48   10        1          1      926        0     0   12      1   \n",
              "6786    34    0        1          2     1636        1     1    6     11   \n",
              "\n",
              "       duration  campaign  pdays  previous  poutcome  \n",
              "5527        182         1     -1         0         3  \n",
              "4541       1323         9     -1         0         3  \n",
              "1964        456         1    300         1         0  \n",
              "5007        784         2     -1         0         3  \n",
              "8928         84         3     -1         0         3  \n",
              "...         ...       ...    ...       ...       ...  \n",
              "376         385         5     -1         0         3  \n",
              "5544         96         1     -1         0         3  \n",
              "10749        55         1    328         1         0  \n",
              "3881        504         2    178        10         2  \n",
              "6786        136         1    521         2         0  \n",
              "\n",
              "[2233 rows x 14 columns]"
            ],
            "text/html": [
              "\n",
              "  <div id=\"df-b01c93cf-0dc3-44f8-a17c-07f55a3af4a7\">\n",
              "    <div class=\"colab-df-container\">\n",
              "      <div>\n",
              "<style scoped>\n",
              "    .dataframe tbody tr th:only-of-type {\n",
              "        vertical-align: middle;\n",
              "    }\n",
              "\n",
              "    .dataframe tbody tr th {\n",
              "        vertical-align: top;\n",
              "    }\n",
              "\n",
              "    .dataframe thead th {\n",
              "        text-align: right;\n",
              "    }\n",
              "</style>\n",
              "<table border=\"1\" class=\"dataframe\">\n",
              "  <thead>\n",
              "    <tr style=\"text-align: right;\">\n",
              "      <th></th>\n",
              "      <th>age</th>\n",
              "      <th>job</th>\n",
              "      <th>marital</th>\n",
              "      <th>education</th>\n",
              "      <th>balance</th>\n",
              "      <th>housing</th>\n",
              "      <th>loan</th>\n",
              "      <th>day</th>\n",
              "      <th>month</th>\n",
              "      <th>duration</th>\n",
              "      <th>campaign</th>\n",
              "      <th>pdays</th>\n",
              "      <th>previous</th>\n",
              "      <th>poutcome</th>\n",
              "    </tr>\n",
              "  </thead>\n",
              "  <tbody>\n",
              "    <tr>\n",
              "      <th>5527</th>\n",
              "      <td>65</td>\n",
              "      <td>5</td>\n",
              "      <td>0</td>\n",
              "      <td>1</td>\n",
              "      <td>744</td>\n",
              "      <td>0</td>\n",
              "      <td>0</td>\n",
              "      <td>5</td>\n",
              "      <td>5</td>\n",
              "      <td>182</td>\n",
              "      <td>1</td>\n",
              "      <td>-1</td>\n",
              "      <td>0</td>\n",
              "      <td>3</td>\n",
              "    </tr>\n",
              "    <tr>\n",
              "      <th>4541</th>\n",
              "      <td>38</td>\n",
              "      <td>1</td>\n",
              "      <td>1</td>\n",
              "      <td>1</td>\n",
              "      <td>1627</td>\n",
              "      <td>0</td>\n",
              "      <td>0</td>\n",
              "      <td>16</td>\n",
              "      <td>6</td>\n",
              "      <td>1323</td>\n",
              "      <td>9</td>\n",
              "      <td>-1</td>\n",
              "      <td>0</td>\n",
              "      <td>3</td>\n",
              "    </tr>\n",
              "    <tr>\n",
              "      <th>1964</th>\n",
              "      <td>35</td>\n",
              "      <td>1</td>\n",
              "      <td>2</td>\n",
              "      <td>1</td>\n",
              "      <td>4963</td>\n",
              "      <td>1</td>\n",
              "      <td>0</td>\n",
              "      <td>14</td>\n",
              "      <td>8</td>\n",
              "      <td>456</td>\n",
              "      <td>1</td>\n",
              "      <td>300</td>\n",
              "      <td>1</td>\n",
              "      <td>0</td>\n",
              "    </tr>\n",
              "    <tr>\n",
              "      <th>5007</th>\n",
              "      <td>47</td>\n",
              "      <td>1</td>\n",
              "      <td>1</td>\n",
              "      <td>1</td>\n",
              "      <td>8229</td>\n",
              "      <td>0</td>\n",
              "      <td>0</td>\n",
              "      <td>8</td>\n",
              "      <td>1</td>\n",
              "      <td>784</td>\n",
              "      <td>2</td>\n",
              "      <td>-1</td>\n",
              "      <td>0</td>\n",
              "      <td>3</td>\n",
              "    </tr>\n",
              "    <tr>\n",
              "      <th>8928</th>\n",
              "      <td>35</td>\n",
              "      <td>9</td>\n",
              "      <td>1</td>\n",
              "      <td>2</td>\n",
              "      <td>1473</td>\n",
              "      <td>1</td>\n",
              "      <td>0</td>\n",
              "      <td>12</td>\n",
              "      <td>8</td>\n",
              "      <td>84</td>\n",
              "      <td>3</td>\n",
              "      <td>-1</td>\n",
              "      <td>0</td>\n",
              "      <td>3</td>\n",
              "    </tr>\n",
              "    <tr>\n",
              "      <th>...</th>\n",
              "      <td>...</td>\n",
              "      <td>...</td>\n",
              "      <td>...</td>\n",
              "      <td>...</td>\n",
              "      <td>...</td>\n",
              "      <td>...</td>\n",
              "      <td>...</td>\n",
              "      <td>...</td>\n",
              "      <td>...</td>\n",
              "      <td>...</td>\n",
              "      <td>...</td>\n",
              "      <td>...</td>\n",
              "      <td>...</td>\n",
              "      <td>...</td>\n",
              "    </tr>\n",
              "    <tr>\n",
              "      <th>376</th>\n",
              "      <td>46</td>\n",
              "      <td>10</td>\n",
              "      <td>1</td>\n",
              "      <td>1</td>\n",
              "      <td>926</td>\n",
              "      <td>0</td>\n",
              "      <td>0</td>\n",
              "      <td>7</td>\n",
              "      <td>5</td>\n",
              "      <td>385</td>\n",
              "      <td>5</td>\n",
              "      <td>-1</td>\n",
              "      <td>0</td>\n",
              "      <td>3</td>\n",
              "    </tr>\n",
              "    <tr>\n",
              "      <th>5544</th>\n",
              "      <td>49</td>\n",
              "      <td>9</td>\n",
              "      <td>1</td>\n",
              "      <td>0</td>\n",
              "      <td>230</td>\n",
              "      <td>1</td>\n",
              "      <td>0</td>\n",
              "      <td>8</td>\n",
              "      <td>8</td>\n",
              "      <td>96</td>\n",
              "      <td>1</td>\n",
              "      <td>-1</td>\n",
              "      <td>0</td>\n",
              "      <td>3</td>\n",
              "    </tr>\n",
              "    <tr>\n",
              "      <th>10749</th>\n",
              "      <td>53</td>\n",
              "      <td>9</td>\n",
              "      <td>1</td>\n",
              "      <td>2</td>\n",
              "      <td>431</td>\n",
              "      <td>1</td>\n",
              "      <td>0</td>\n",
              "      <td>5</td>\n",
              "      <td>8</td>\n",
              "      <td>55</td>\n",
              "      <td>1</td>\n",
              "      <td>328</td>\n",
              "      <td>1</td>\n",
              "      <td>0</td>\n",
              "    </tr>\n",
              "    <tr>\n",
              "      <th>3881</th>\n",
              "      <td>48</td>\n",
              "      <td>10</td>\n",
              "      <td>1</td>\n",
              "      <td>1</td>\n",
              "      <td>926</td>\n",
              "      <td>0</td>\n",
              "      <td>0</td>\n",
              "      <td>12</td>\n",
              "      <td>1</td>\n",
              "      <td>504</td>\n",
              "      <td>2</td>\n",
              "      <td>178</td>\n",
              "      <td>10</td>\n",
              "      <td>2</td>\n",
              "    </tr>\n",
              "    <tr>\n",
              "      <th>6786</th>\n",
              "      <td>34</td>\n",
              "      <td>0</td>\n",
              "      <td>1</td>\n",
              "      <td>2</td>\n",
              "      <td>1636</td>\n",
              "      <td>1</td>\n",
              "      <td>1</td>\n",
              "      <td>6</td>\n",
              "      <td>11</td>\n",
              "      <td>136</td>\n",
              "      <td>1</td>\n",
              "      <td>521</td>\n",
              "      <td>2</td>\n",
              "      <td>0</td>\n",
              "    </tr>\n",
              "  </tbody>\n",
              "</table>\n",
              "<p>2233 rows × 14 columns</p>\n",
              "</div>\n",
              "      <button class=\"colab-df-convert\" onclick=\"convertToInteractive('df-b01c93cf-0dc3-44f8-a17c-07f55a3af4a7')\"\n",
              "              title=\"Convert this dataframe to an interactive table.\"\n",
              "              style=\"display:none;\">\n",
              "        \n",
              "  <svg xmlns=\"http://www.w3.org/2000/svg\" height=\"24px\"viewBox=\"0 0 24 24\"\n",
              "       width=\"24px\">\n",
              "    <path d=\"M0 0h24v24H0V0z\" fill=\"none\"/>\n",
              "    <path d=\"M18.56 5.44l.94 2.06.94-2.06 2.06-.94-2.06-.94-.94-2.06-.94 2.06-2.06.94zm-11 1L8.5 8.5l.94-2.06 2.06-.94-2.06-.94L8.5 2.5l-.94 2.06-2.06.94zm10 10l.94 2.06.94-2.06 2.06-.94-2.06-.94-.94-2.06-.94 2.06-2.06.94z\"/><path d=\"M17.41 7.96l-1.37-1.37c-.4-.4-.92-.59-1.43-.59-.52 0-1.04.2-1.43.59L10.3 9.45l-7.72 7.72c-.78.78-.78 2.05 0 2.83L4 21.41c.39.39.9.59 1.41.59.51 0 1.02-.2 1.41-.59l7.78-7.78 2.81-2.81c.8-.78.8-2.07 0-2.86zM5.41 20L4 18.59l7.72-7.72 1.47 1.35L5.41 20z\"/>\n",
              "  </svg>\n",
              "      </button>\n",
              "      \n",
              "  <style>\n",
              "    .colab-df-container {\n",
              "      display:flex;\n",
              "      flex-wrap:wrap;\n",
              "      gap: 12px;\n",
              "    }\n",
              "\n",
              "    .colab-df-convert {\n",
              "      background-color: #E8F0FE;\n",
              "      border: none;\n",
              "      border-radius: 50%;\n",
              "      cursor: pointer;\n",
              "      display: none;\n",
              "      fill: #1967D2;\n",
              "      height: 32px;\n",
              "      padding: 0 0 0 0;\n",
              "      width: 32px;\n",
              "    }\n",
              "\n",
              "    .colab-df-convert:hover {\n",
              "      background-color: #E2EBFA;\n",
              "      box-shadow: 0px 1px 2px rgba(60, 64, 67, 0.3), 0px 1px 3px 1px rgba(60, 64, 67, 0.15);\n",
              "      fill: #174EA6;\n",
              "    }\n",
              "\n",
              "    [theme=dark] .colab-df-convert {\n",
              "      background-color: #3B4455;\n",
              "      fill: #D2E3FC;\n",
              "    }\n",
              "\n",
              "    [theme=dark] .colab-df-convert:hover {\n",
              "      background-color: #434B5C;\n",
              "      box-shadow: 0px 1px 3px 1px rgba(0, 0, 0, 0.15);\n",
              "      filter: drop-shadow(0px 1px 2px rgba(0, 0, 0, 0.3));\n",
              "      fill: #FFFFFF;\n",
              "    }\n",
              "  </style>\n",
              "\n",
              "      <script>\n",
              "        const buttonEl =\n",
              "          document.querySelector('#df-b01c93cf-0dc3-44f8-a17c-07f55a3af4a7 button.colab-df-convert');\n",
              "        buttonEl.style.display =\n",
              "          google.colab.kernel.accessAllowed ? 'block' : 'none';\n",
              "\n",
              "        async function convertToInteractive(key) {\n",
              "          const element = document.querySelector('#df-b01c93cf-0dc3-44f8-a17c-07f55a3af4a7');\n",
              "          const dataTable =\n",
              "            await google.colab.kernel.invokeFunction('convertToInteractive',\n",
              "                                                     [key], {});\n",
              "          if (!dataTable) return;\n",
              "\n",
              "          const docLinkHtml = 'Like what you see? Visit the ' +\n",
              "            '<a target=\"_blank\" href=https://colab.research.google.com/notebooks/data_table.ipynb>data table notebook</a>'\n",
              "            + ' to learn more about interactive tables.';\n",
              "          element.innerHTML = '';\n",
              "          dataTable['output_type'] = 'display_data';\n",
              "          await google.colab.output.renderOutput(dataTable, element);\n",
              "          const docLink = document.createElement('div');\n",
              "          docLink.innerHTML = docLinkHtml;\n",
              "          element.appendChild(docLink);\n",
              "        }\n",
              "      </script>\n",
              "    </div>\n",
              "  </div>\n",
              "  "
            ]
          },
          "metadata": {},
          "execution_count": 120
        }
      ],
      "source": [
        "X_test"
      ]
    },
    {
      "cell_type": "code",
      "execution_count": null,
      "metadata": {
        "id": "4xDpAMN1HONO",
        "colab": {
          "base_uri": "https://localhost:8080/"
        },
        "outputId": "490382b8-b304-4de2-951d-d9d5c65b6381"
      },
      "outputs": [
        {
          "output_type": "execute_result",
          "data": {
            "text/plain": [
              "(8929,)"
            ]
          },
          "metadata": {},
          "execution_count": 121
        }
      ],
      "source": [
        "Y_train.shape"
      ]
    },
    {
      "cell_type": "code",
      "execution_count": null,
      "metadata": {
        "id": "exFJ6N-tHXpI",
        "colab": {
          "base_uri": "https://localhost:8080/"
        },
        "outputId": "afead0a1-0572-42e5-ce9f-7f07f626868c"
      },
      "outputs": [
        {
          "output_type": "execute_result",
          "data": {
            "text/plain": [
              "(2233,)"
            ]
          },
          "metadata": {},
          "execution_count": 122
        }
      ],
      "source": [
        "Y_test.shape"
      ]
    },
    {
      "cell_type": "code",
      "execution_count": null,
      "metadata": {
        "id": "HfubxXTzHZiU",
        "colab": {
          "base_uri": "https://localhost:8080/"
        },
        "outputId": "a6a7aaea-862a-4c9b-fc86-bc11044e7d8f"
      },
      "outputs": [
        {
          "output_type": "execute_result",
          "data": {
            "text/plain": [
              "3955     1\n",
              "11150    0\n",
              "5173     1\n",
              "3017     1\n",
              "2910     1\n",
              "        ..\n",
              "5734     0\n",
              "5191     1\n",
              "5390     0\n",
              "860      1\n",
              "7270     0\n",
              "Name: deposit, Length: 8929, dtype: int64"
            ]
          },
          "metadata": {},
          "execution_count": 123
        }
      ],
      "source": [
        "Y_train"
      ]
    },
    {
      "cell_type": "code",
      "execution_count": null,
      "metadata": {
        "id": "XFeyFSxCHbuX",
        "colab": {
          "base_uri": "https://localhost:8080/"
        },
        "outputId": "9c9799cc-6015-49db-ee94-92fa3f150b44"
      },
      "outputs": [
        {
          "output_type": "execute_result",
          "data": {
            "text/plain": [
              "5527     0\n",
              "4541     1\n",
              "1964     1\n",
              "5007     1\n",
              "8928     0\n",
              "        ..\n",
              "376      1\n",
              "5544     0\n",
              "10749    0\n",
              "3881     1\n",
              "6786     0\n",
              "Name: deposit, Length: 2233, dtype: int64"
            ]
          },
          "metadata": {},
          "execution_count": 124
        }
      ],
      "source": [
        "Y_test"
      ]
    },
    {
      "cell_type": "code",
      "execution_count": null,
      "metadata": {
        "id": "AgZ5JC-HHdOI"
      },
      "outputs": [],
      "source": [
        "Standardisation = preprocessing.StandardScaler()\n",
        "x_train = Standardisation.fit_transform(X_train)\n",
        "x_test = Standardisation.fit_transform(X_test)"
      ]
    },
    {
      "cell_type": "code",
      "source": [
        "x_train"
      ],
      "metadata": {
        "colab": {
          "base_uri": "https://localhost:8080/"
        },
        "id": "XvIs58W12q5-",
        "outputId": "5123f06e-e715-461c-c7ff-0d4f32fa95bd"
      },
      "execution_count": null,
      "outputs": [
        {
          "output_type": "execute_result",
          "data": {
            "text/plain": [
              "array([[-1.11404081,  1.09433902,  1.27746077, ...,  1.37403675,\n",
              "         0.99172215, -2.4871858 ],\n",
              "       [-0.60927832, -0.15089522, -0.32321945, ..., -0.47620856,\n",
              "        -0.36760146,  0.51634166],\n",
              "       [ 0.56850085,  1.71695614, -1.92389966, ...,  0.37066989,\n",
              "         0.08550641, -0.48483416],\n",
              "       ...,\n",
              "       [-0.52515123,  1.40564758, -0.32321945, ..., -0.47620856,\n",
              "        -0.36760146,  0.51634166],\n",
              "       [ 0.8208821 ,  0.16041334, -0.32321945, ..., -0.47620856,\n",
              "        -0.36760146,  0.51634166],\n",
              "       [-0.94578665, -0.15089522,  1.27746077, ..., -0.47620856,\n",
              "        -0.36760146,  0.51634166]])"
            ]
          },
          "metadata": {},
          "execution_count": 126
        }
      ]
    },
    {
      "cell_type": "code",
      "execution_count": null,
      "metadata": {
        "id": "TcCovdGWIOuT",
        "colab": {
          "base_uri": "https://localhost:8080/"
        },
        "outputId": "cd287ed9-7a33-4a68-9fd9-0bd866439992"
      },
      "outputs": [
        {
          "output_type": "execute_result",
          "data": {
            "text/plain": [
              "array([[ 1.98143576,  0.15244778, -1.89157941, ..., -0.50112687,\n",
              "        -0.35262221,  0.538105  ],\n",
              "       [-0.26549831, -1.06877513, -0.30065782, ..., -0.50112687,\n",
              "        -0.35262221,  0.538105  ],\n",
              "       [-0.51515765, -1.06877513,  1.29026377, ...,  2.2553867 ,\n",
              "         0.03166544, -2.40696478],\n",
              "       ...,\n",
              "       [ 0.9827984 ,  1.37367069, -0.30065782, ...,  2.51180657,\n",
              "         0.03166544, -2.40696478],\n",
              "       [ 0.5666995 ,  1.67897642, -0.30065782, ...,  1.13812871,\n",
              "         3.49025428, -0.44358493],\n",
              "       [-0.59837743, -1.37408086, -0.30065782, ...,  4.27927208,\n",
              "         0.41595309, -2.40696478]])"
            ]
          },
          "metadata": {},
          "execution_count": 127
        }
      ],
      "source": [
        "x_test"
      ]
    },
    {
      "cell_type": "code",
      "source": [
        "#NaiveBayes\n",
        "gnb = GaussianNB()\n",
        "gnb.fit(x_train, Y_train) \n",
        "y_nbpred = gnb.predict(x_test)\n",
        "accuracy1 = metrics.accuracy_score(Y_test, y_nbpred)*100\n",
        "print(accuracy1)"
      ],
      "metadata": {
        "id": "TNqygZvGitEU",
        "colab": {
          "base_uri": "https://localhost:8080/"
        },
        "outputId": "7ae6caaf-ca79-4b8f-acd3-0275708dccca"
      },
      "execution_count": null,
      "outputs": [
        {
          "output_type": "stream",
          "name": "stdout",
          "text": [
            "75.14554411106135\n"
          ]
        }
      ]
    },
    {
      "cell_type": "code",
      "source": [
        "#Logistic Regression\n",
        "lgr = LogisticRegression(random_state=100)\n",
        "lgr.fit(x_train,Y_train)\n",
        "Y_score = lgr.predict(x_test)\n",
        "lr_probs = lgr.predict_proba(x_test)\n",
        "accuracy2 = lgr.score(x_test, Y_test)*100\n",
        "print(accuracy2)"
      ],
      "metadata": {
        "colab": {
          "base_uri": "https://localhost:8080/"
        },
        "id": "RGPGxFrKwB21",
        "outputId": "8dc67923-e291-4da0-c7bc-cff0bb009a98"
      },
      "execution_count": null,
      "outputs": [
        {
          "output_type": "stream",
          "name": "stdout",
          "text": [
            "77.33990147783251\n"
          ]
        }
      ]
    },
    {
      "cell_type": "code",
      "source": [
        "#KNeighborsClassifier\n",
        "knn = KNeighborsClassifier(n_neighbors=9)\n",
        "knn.fit(x_train, Y_train)\n",
        "predictedlabels = knn.predict(x_test)\n",
        "accuracy3 = accuracy_score(Y_test, predictedlabels)*100\n",
        "print(accuracy3)"
      ],
      "metadata": {
        "id": "NCcDt4I1MuwQ",
        "colab": {
          "base_uri": "https://localhost:8080/"
        },
        "outputId": "f987ef34-fed5-44a8-d7c6-3533d0950cf9"
      },
      "execution_count": null,
      "outputs": [
        {
          "output_type": "stream",
          "name": "stdout",
          "text": [
            "78.90729959695477\n"
          ]
        }
      ]
    },
    {
      "cell_type": "code",
      "source": [
        "# SVM\n",
        "svc_model = SVC()\n",
        "svc_model.fit(x_train, Y_train)\n",
        "y_pred = svc_model.predict(x_test)\n",
        "accuracy4 = (metrics.accuracy_score(Y_test,y_pred)*100)\n",
        "print(accuracy4)"
      ],
      "metadata": {
        "id": "eCjQ96PBWFem",
        "colab": {
          "base_uri": "https://localhost:8080/"
        },
        "outputId": "87723922-d287-43df-f143-6de0818a20ec"
      },
      "execution_count": null,
      "outputs": [
        {
          "output_type": "stream",
          "name": "stdout",
          "text": [
            "80.11643528884909\n"
          ]
        }
      ]
    },
    {
      "cell_type": "code",
      "source": [
        "#Random Forest\n",
        "rf = RandomForestClassifier(n_estimators=120, random_state=42)\n",
        "rf.fit(x_train, Y_train)\n",
        "y_rfpred = rf.predict(x_test)\n",
        "accuracy5 = accuracy_score(Y_test, y_rfpred)*100\n",
        "accuracy5"
      ],
      "metadata": {
        "colab": {
          "base_uri": "https://localhost:8080/"
        },
        "id": "fo1_6gY_v9f2",
        "outputId": "5942dea2-f047-4948-d437-acc3d936b6c1"
      },
      "execution_count": null,
      "outputs": [
        {
          "output_type": "execute_result",
          "data": {
            "text/plain": [
              "82.5794894760412"
            ]
          },
          "metadata": {},
          "execution_count": 132
        }
      ]
    },
    {
      "cell_type": "code",
      "source": [
        "print(confusion_matrix(Y_test, y_rfpred))"
      ],
      "metadata": {
        "colab": {
          "base_uri": "https://localhost:8080/"
        },
        "id": "1urLlbyIw_wT",
        "outputId": "434d425a-6baf-471e-bc45-8a7f474c5f1e"
      },
      "execution_count": null,
      "outputs": [
        {
          "output_type": "stream",
          "name": "stdout",
          "text": [
            "[[938 228]\n",
            " [161 906]]\n"
          ]
        }
      ]
    },
    {
      "cell_type": "code",
      "source": [
        "info = [['gnb', 'lgr', 'knn', 'svc_model', 'rf'],[accuracy1,accuracy2,accuracy3,accuracy4, accuracy5]]\n",
        "df = pd.DataFrame(columns=['Model', 'Accuracy'])\n",
        "for i in range(5):\n",
        "  df.loc[i] = [info[0][i],info[1][i]]\n",
        "df.plot.bar(x=\"Model\", y=\"Accuracy\",title=\"Comparision of Models\", color = 'black', rot = 0)"
      ],
      "metadata": {
        "colab": {
          "base_uri": "https://localhost:8080/",
          "height": 489
        },
        "id": "BXlRskHkvyEL",
        "outputId": "d2e46ebb-bfba-4685-e7eb-c38a6bbd7b1f"
      },
      "execution_count": null,
      "outputs": [
        {
          "output_type": "execute_result",
          "data": {
            "text/plain": [
              "<Axes: title={'center': 'Comparision of Models'}, xlabel='Model'>"
            ]
          },
          "metadata": {},
          "execution_count": 134
        },
        {
          "output_type": "display_data",
          "data": {
            "text/plain": [
              "<Figure size 640x480 with 1 Axes>"
            ],
            "image/png": "[encoded data removed]"
          },
          "metadata": {}
        }
      ]
    },
    {
      "cell_type": "code",
      "source": [
        "!pip install gradio"
      ],
      "metadata": {
        "colab": {
          "base_uri": "https://localhost:8080/"
        },
        "id": "0t8yB2GRdKR_",
        "outputId": "95ea82d6-e671-48c4-8296-bbae58f87b2f"
      },
      "execution_count": null,
      "outputs": [
        {
          "output_type": "stream",
          "name": "stdout",
          "text": [
            "Looking in indexes: https://pypi.org/simple, https://us-python.pkg.dev/colab-wheels/public/simple/\n",
            "Requirement already satisfied: gradio in /usr/local/lib/python3.9/dist-packages (3.24.1)\n",
            "Requirement already satisfied: huggingface-hub>=0.13.0 in /usr/local/lib/python3.9/dist-packages (from gradio) (0.13.3)\n",
            "Requirement already satisfied: pydub in /usr/local/lib/python3.9/dist-packages (from gradio) (0.25.1)\n",
            "Requirement already satisfied: pillow in /usr/local/lib/python3.9/dist-packages (from gradio) (8.4.0)\n",
            "Requirement already satisfied: markupsafe in /usr/local/lib/python3.9/dist-packages (from gradio) (2.1.2)\n",
            "Requirement already satisfied: pandas in /usr/local/lib/python3.9/dist-packages (from gradio) (1.4.4)\n",
            "Requirement already satisfied: numpy in /usr/local/lib/python3.9/dist-packages (from gradio) (1.22.4)\n",
            "Requirement already satisfied: uvicorn in /usr/local/lib/python3.9/dist-packages (from gradio) (0.21.1)\n",
            "Requirement already satisfied: fastapi in /usr/local/lib/python3.9/dist-packages (from gradio) (0.95.0)\n",
            "Requirement already satisfied: markdown-it-py[linkify]>=2.0.0 in /usr/local/lib/python3.9/dist-packages (from gradio) (2.2.0)\n",
            "Requirement already satisfied: requests in /usr/local/lib/python3.9/dist-packages (from gradio) (2.27.1)\n",
            "Requirement already satisfied: altair>=4.2.0 in /usr/local/lib/python3.9/dist-packages (from gradio) (4.2.2)\n",
            "Requirement already satisfied: orjson in /usr/local/lib/python3.9/dist-packages (from gradio) (3.8.9)\n",
            "Requirement already satisfied: pydantic in /usr/local/lib/python3.9/dist-packages (from gradio) (1.10.7)\n",
            "Requirement already satisfied: python-multipart in /usr/local/lib/python3.9/dist-packages (from gradio) (0.0.6)\n",
            "Requirement already satisfied: matplotlib in /usr/local/lib/python3.9/dist-packages (from gradio) (3.7.1)\n",
            "Requirement already satisfied: pyyaml in /usr/local/lib/python3.9/dist-packages (from gradio) (6.0)\n",
            "Requirement already satisfied: aiofiles in /usr/local/lib/python3.9/dist-packages (from gradio) (23.1.0)\n",
            "Requirement already satisfied: semantic-version in /usr/local/lib/python3.9/dist-packages (from gradio) (2.10.0)\n",
            "Requirement already satisfied: httpx in /usr/local/lib/python3.9/dist-packages (from gradio) (0.23.3)\n",
            "Requirement already satisfied: aiohttp in /usr/local/lib/python3.9/dist-packages (from gradio) (3.8.4)\n",
            "Requirement already satisfied: typing-extensions in /usr/local/lib/python3.9/dist-packages (from gradio) (4.5.0)\n",
            "Requirement already satisfied: ffmpy in /usr/local/lib/python3.9/dist-packages (from gradio) (0.3.0)\n",
            "Requirement already satisfied: mdit-py-plugins<=0.3.3 in /usr/local/lib/python3.9/dist-packages (from gradio) (0.3.3)\n",
            "Requirement already satisfied: gradio-client>=0.0.5 in /usr/local/lib/python3.9/dist-packages (from gradio) (0.0.5)\n",
            "Requirement already satisfied: websockets>=10.0 in /usr/local/lib/python3.9/dist-packages (from gradio) (10.4)\n",
            "Requirement already satisfied: jinja2 in /usr/local/lib/python3.9/dist-packages (from gradio) (3.1.2)\n",
            "Requirement already satisfied: entrypoints in /usr/local/lib/python3.9/dist-packages (from altair>=4.2.0->gradio) (0.4)\n",
            "Requirement already satisfied: jsonschema>=3.0 in /usr/local/lib/python3.9/dist-packages (from altair>=4.2.0->gradio) (4.3.3)\n",
            "Requirement already satisfied: toolz in /usr/local/lib/python3.9/dist-packages (from altair>=4.2.0->gradio) (0.12.0)\n",
            "Requirement already satisfied: packaging in /usr/local/lib/python3.9/dist-packages (from gradio-client>=0.0.5->gradio) (23.0)\n",
            "Requirement already satisfied: fsspec in /usr/local/lib/python3.9/dist-packages (from gradio-client>=0.0.5->gradio) (2023.3.0)\n",
            "Requirement already satisfied: filelock in /usr/local/lib/python3.9/dist-packages (from huggingface-hub>=0.13.0->gradio) (3.10.7)\n",
            "Requirement already satisfied: tqdm>=4.42.1 in /usr/local/lib/python3.9/dist-packages (from huggingface-hub>=0.13.0->gradio) (4.65.0)\n",
            "Requirement already satisfied: mdurl~=0.1 in /usr/local/lib/python3.9/dist-packages (from markdown-it-py[linkify]>=2.0.0->gradio) (0.1.2)\n",
            "Requirement already satisfied: linkify-it-py<3,>=1 in /usr/local/lib/python3.9/dist-packages (from markdown-it-py[linkify]>=2.0.0->gradio) (2.0.0)\n",
            "Requirement already satisfied: python-dateutil>=2.8.1 in /usr/local/lib/python3.9/dist-packages (from pandas->gradio) (2.8.2)\n",
            "Requirement already satisfied: pytz>=2020.1 in /usr/local/lib/python3.9/dist-packages (from pandas->gradio) (2022.7.1)\n",
            "Requirement already satisfied: yarl<2.0,>=1.0 in /usr/local/lib/python3.9/dist-packages (from aiohttp->gradio) (1.8.2)\n",
            "Requirement already satisfied: aiosignal>=1.1.2 in /usr/local/lib/python3.9/dist-packages (from aiohttp->gradio) (1.3.1)\n",
            "Requirement already satisfied: frozenlist>=1.1.1 in /usr/local/lib/python3.9/dist-packages (from aiohttp->gradio) (1.3.3)\n",
            "Requirement already satisfied: charset-normalizer<4.0,>=2.0 in /usr/local/lib/python3.9/dist-packages (from aiohttp->gradio) (2.0.12)\n",
            "Requirement already satisfied: multidict<7.0,>=4.5 in /usr/local/lib/python3.9/dist-packages (from aiohttp->gradio) (6.0.4)\n",
            "Requirement already satisfied: attrs>=17.3.0 in /usr/local/lib/python3.9/dist-packages (from aiohttp->gradio) (22.2.0)\n",
            "Requirement already satisfied: async-timeout<5.0,>=4.0.0a3 in /usr/local/lib/python3.9/dist-packages (from aiohttp->gradio) (4.0.2)\n",
            "Requirement already satisfied: starlette<0.27.0,>=0.26.1 in /usr/local/lib/python3.9/dist-packages (from fastapi->gradio) (0.26.1)\n",
            "Requirement already satisfied: httpcore<0.17.0,>=0.15.0 in /usr/local/lib/python3.9/dist-packages (from httpx->gradio) (0.16.3)\n",
            "Requirement already satisfied: rfc3986[idna2008]<2,>=1.3 in /usr/local/lib/python3.9/dist-packages (from httpx->gradio) (1.5.0)\n",
            "Requirement already satisfied: certifi in /usr/local/lib/python3.9/dist-packages (from httpx->gradio) (2022.12.7)\n",
            "Requirement already satisfied: sniffio in /usr/local/lib/python3.9/dist-packages (from httpx->gradio) (1.3.0)\n",
            "Requirement already satisfied: importlib-resources>=3.2.0 in /usr/local/lib/python3.9/dist-packages (from matplotlib->gradio) (5.12.0)\n",
            "Requirement already satisfied: cycler>=0.10 in /usr/local/lib/python3.9/dist-packages (from matplotlib->gradio) (0.11.0)\n",
            "Requirement already satisfied: fonttools>=4.22.0 in /usr/local/lib/python3.9/dist-packages (from matplotlib->gradio) (4.39.3)\n",
            "Requirement already satisfied: pyparsing>=2.3.1 in /usr/local/lib/python3.9/dist-packages (from matplotlib->gradio) (3.0.9)\n",
            "Requirement already satisfied: kiwisolver>=1.0.1 in /usr/local/lib/python3.9/dist-packages (from matplotlib->gradio) (1.4.4)\n",
            "Requirement already satisfied: contourpy>=1.0.1 in /usr/local/lib/python3.9/dist-packages (from matplotlib->gradio) (1.0.7)\n",
            "Requirement already satisfied: urllib3<1.27,>=1.21.1 in /usr/local/lib/python3.9/dist-packages (from requests->gradio) (1.26.15)\n",
            "Requirement already satisfied: idna<4,>=2.5 in /usr/local/lib/python3.9/dist-packages (from requests->gradio) (3.4)\n",
            "Requirement already satisfied: click>=7.0 in /usr/local/lib/python3.9/dist-packages (from uvicorn->gradio) (8.1.3)\n",
            "Requirement already satisfied: h11>=0.8 in /usr/local/lib/python3.9/dist-packages (from uvicorn->gradio) (0.14.0)\n",
            "Requirement already satisfied: anyio<5.0,>=3.0 in /usr/local/lib/python3.9/dist-packages (from httpcore<0.17.0,>=0.15.0->httpx->gradio) (3.6.2)\n",
            "Requirement already satisfied: zipp>=3.1.0 in /usr/local/lib/python3.9/dist-packages (from importlib-resources>=3.2.0->matplotlib->gradio) (3.15.0)\n",
            "Requirement already satisfied: pyrsistent!=0.17.0,!=0.17.1,!=0.17.2,>=0.14.0 in /usr/local/lib/python3.9/dist-packages (from jsonschema>=3.0->altair>=4.2.0->gradio) (0.19.3)\n",
            "Requirement already satisfied: uc-micro-py in /usr/local/lib/python3.9/dist-packages (from linkify-it-py<3,>=1->markdown-it-py[linkify]>=2.0.0->gradio) (1.0.1)\n",
            "Requirement already satisfied: six>=1.5 in /usr/local/lib/python3.9/dist-packages (from python-dateutil>=2.8.1->pandas->gradio) (1.16.0)\n"
          ]
        }
      ]
    },
    {
      "cell_type": "code",
      "source": [
        "import gradio as gr"
      ],
      "metadata": {
        "id": "eZlkc5cGhSEy"
      },
      "execution_count": null,
      "outputs": []
    },
    {
      "cell_type": "code",
      "source": [
        "import warnings\n",
        "warnings.filterwarnings('ignore')"
      ],
      "metadata": {
        "id": "_Y_SUKQfiwFK"
      },
      "execution_count": null,
      "outputs": []
    },
    {
      "cell_type": "code",
      "source": [
        "def prediction(age,job,marital,education,balance,housing,loan,day,month,duration,campaign,pdays,previous,poutcome):\n",
        "  x=np.array([age,job,marital,education,balance,housing,loan,day,month,duration,campaign,pdays,previous,poutcome])\n",
        "  x =((x-X_train.mean())/(X_train.std()))\n",
        "  outcome = rf.predict([x])\n",
        "  if outcome==0:\n",
        "    return \"No\"\n",
        "  else:\n",
        "    return \"Yes\"\n",
        "output = gr.outputs.Textbox()\n",
        "inputs = [\n",
        "    gr.inputs.Number(label=\"Age\"),\n",
        "    gr.inputs.Number(label=\"Job\"),\n",
        "    gr.inputs.Number(label=\"Marital Status\"),\n",
        "    gr.inputs.Number(label=\"Education Level\"),\n",
        "    gr.inputs.Number(label=\"Balance\"),\n",
        "    gr.inputs.Number(label=\"Housing\"),\n",
        "    gr.inputs.Number(label=\"Loan\"),\n",
        "    gr.inputs.Number(label=\"Day\"),\n",
        "    gr.inputs.Number(label=\"Month\"),\n",
        "    gr.inputs.Number(label=\"Duration\"),\n",
        "    gr.inputs.Number(label=\"Number of Contacts Performed During This Campaign\"),\n",
        "    gr.inputs.Number(label=\"Days Since Last Contact from a Previous Campaign\"),\n",
        "    gr.inputs.Number(label=\"Number of Contacts Performed Before This Campaign\"),\n",
        "    gr.inputs.Number(label=\"Outcome of the Previous Marketing Campaign\")\n",
        "]\n",
        "demo=gr.Interface(fn=prediction, inputs = inputs, outputs=output, title = \"<center><h1>BANK MARKETING ANALYSIS</h1></center>\",\n",
        "                  description =  \"\"\"<center>\n",
        "                                    <img src=\"https://t3.ftcdn.net/jpg/03/55/89/04/360_F_355890479_DPOZJEMBwKWOojmVH0MYYMqm8j6Re05i.jpg\",width=\"1000\" height=\"400\">\n",
        "                                    </center>\n",
        "                                    <h4><b>Choose job:</b></h4> admin = 0, technician = 9, services = 7, management = 4, retired = 5, blue-collar = 1, self-employed = 6, student = 8, unemployed = 10, entrepreneur = 2, housemaid = 3, unknown = 11<br>\n",
        "                                    <h4><b>Choose marital:</b></h4> married = 1, single = 2, divorced = 0<br>\n",
        "                                    <h4><b>Choose education:</b></h4> secondary = 1, tertiary = 2, primary = 0, unknown = 3<br>\n",
        "                                    <h4><b>Choose housing:</b></h4> yes = 0, no = 1\\nChoose loan : yes = 1, no = 0<br>\n",
        "                                    <h4><b>Choose month:</b></h4> jan = 4, feb = 3, mar = 7, apr = 0, may = 8, jun = 6, jul = 5, aug = 1, sep = 11, oct = 10, nov = 9, dec = 2<br>\n",
        "                                    <h4><b>Choose poutcome:</b></h4> unknown = 3, failure = 0, success = 2, other = 1\"\"\")\n",
        "demo.launch(share = True) "
      ],
      "metadata": {
        "colab": {
          "base_uri": "https://localhost:8080/",
          "height": 590
        },
        "id": "IS7M-7Wr6CgB",
        "outputId": "36bab0d1-6f86-4901-a6ce-2b1284a73d63"
      },
      "execution_count": null,
      "outputs": [
        {
          "output_type": "stream",
          "name": "stdout",
          "text": [
            "Colab notebook detected. To show errors in colab notebook, set debug=True in launch()\n",
            "Running on public URL: https://e66ec5dfe1ac6b6403.gradio.live\n",
            "\n",
            "This share link expires in 72 hours. For free permanent hosting and GPU upgrades (NEW!), check out Spaces: https://huggingface.co/spaces\n"
          ]
        },
        {
          "output_type": "display_data",
          "data": {
            "text/plain": [
              "<IPython.core.display.HTML object>"
            ],
            "text/html": [
              "<div><iframe src=\"https://e66ec5dfe1ac6b6403.gradio.live\" width=\"100%\" height=\"500\" allow=\"autoplay; camera; microphone; clipboard-read; clipboard-write;\" frameborder=\"0\" allowfullscreen></iframe></div>"
            ]
          },
          "metadata": {}
        },
        {
          "output_type": "execute_result",
          "data": {
            "text/plain": []
          },
          "metadata": {},
          "execution_count": 139
        }
      ]
    },
    {
      "cell_type": "code",
      "source": [],
      "metadata": {
        "id": "zh5xXj7NQCQp"
      },
      "execution_count": null,
      "outputs": []
    }
  ],
  "metadata": {
    "colab": {
      "provenance": []
    },
    "kernelspec": {
      "display_name": "Python 3",
      "name": "python3"
    },
    "language_info": {
      "name": "python"
    }
  },
  "nbformat": 4,
  "nbformat_minor": 0
}